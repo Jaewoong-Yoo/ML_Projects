Epoch 1/10
94/94 [==============================] - 0s 2ms/step - loss: 1.0620 - accuracy: 0.4283
Epoch 2/10
94/94 [==============================] - 0s 2ms/step - loss: 0.8415 - accuracy: 0.6187
Epoch 3/10
94/94 [==============================] - 0s 2ms/step - loss: 0.6000 - accuracy: 0.7517
Epoch 4/10
94/94 [==============================] - 0s 2ms/step - loss: 0.4350 - accuracy: 0.8333
Epoch 5/10
94/94 [==============================] - 0s 2ms/step - loss: 0.3749 - accuracy: 0.8543
Epoch 6/10
94/94 [==============================] - 0s 2ms/step - loss: 0.2742 - accuracy: 0.9027
Epoch 7/10
94/94 [==============================] - 0s 2ms/step - loss: 0.2116 - accuracy: 0.9393
Epoch 8/10
94/94 [==============================] - 0s 2ms/step - loss: 0.1589 - accuracy: 0.9547
Epoch 9/10
94/94 [==============================] - 0s 2ms/step - loss: 0.1219 - accuracy: 0.9673
Epoch 10/10
94/94 [==============================] - 0s 2ms/step - loss: 0.1000 - accuracy: 0.9730
Non-Regularization
Hyperparams... n_ch_1: 32, n_ch_2: 32, n_dense: 64, n_train_epoch: 10
-------------------- test case 1 (New dataset) --------------------
10/10 - 0s - loss: 1.3963 - accuracy: 0.5933
test_loss: 1.3962799310684204 
test_accuracy: 0.5933333039283752
-------------------- test case 2 (Split dataset) --------------------
10/10 - 0s - loss: 0.1630 - accuracy: 0.9500
test_loss: 0.16303952038288116 
test_accuracy: 0.949999988079071


Epoch 1/10
94/94 [==============================] - 0s 2ms/step - loss: 7.7897 - accuracy: 0.3463
Epoch 2/10
94/94 [==============================] - 0s 2ms/step - loss: 1.1822 - accuracy: 0.3243
Epoch 3/10
94/94 [==============================] - 0s 2ms/step - loss: 1.1642 - accuracy: 0.3100
Epoch 4/10
94/94 [==============================] - 0s 2ms/step - loss: 1.1629 - accuracy: 0.3277
Epoch 5/10
94/94 [==============================] - 0s 3ms/step - loss: 1.1626 - accuracy: 0.3253
Epoch 6/10
94/94 [==============================] - 0s 3ms/step - loss: 1.1622 - accuracy: 0.3260
Epoch 7/10
94/94 [==============================] - 0s 2ms/step - loss: 1.1625 - accuracy: 0.3173
Epoch 8/10
94/94 [==============================] - 0s 2ms/step - loss: 1.1625 - accuracy: 0.3147
Epoch 9/10
94/94 [==============================] - 0s 2ms/step - loss: 1.1618 - accuracy: 0.3230
Epoch 10/10
94/94 [==============================] - 0s 2ms/step - loss: 1.1615 - accuracy: 0.3220
L1 Regularization... lambda: 0.01
Hyperparams... n_ch_1: 32, n_ch_2: 32, n_dense: 64, n_train_epoch: 10
-------------------- test case 1 (New dataset) --------------------
10/10 - 0s - loss: 1.1613 - accuracy: 0.3333
test_loss: 1.161274790763855 
test_accuracy: 0.3333333432674408
-------------------- test case 2 (Split dataset) --------------------
10/10 - 0s - loss: 1.1613 - accuracy: 0.3333
test_loss: 1.1612695455551147 
test_accuracy: 0.3333333432674408


Epoch 1/10
94/94 [==============================] - 0s 2ms/step - loss: 1.9099 - accuracy: 0.3513
Epoch 2/10
94/94 [==============================] - 0s 2ms/step - loss: 1.1485 - accuracy: 0.3790
Epoch 3/10
94/94 [==============================] - 0s 2ms/step - loss: 1.1023 - accuracy: 0.4400
Epoch 4/10
94/94 [==============================] - 0s 2ms/step - loss: 1.0279 - accuracy: 0.5423
Epoch 5/10
94/94 [==============================] - 0s 2ms/step - loss: 0.8856 - accuracy: 0.6440
Epoch 6/10
94/94 [==============================] - 0s 2ms/step - loss: 0.7192 - accuracy: 0.7710
Epoch 7/10
94/94 [==============================] - 0s 3ms/step - loss: 0.6465 - accuracy: 0.7943
Epoch 8/10
94/94 [==============================] - 0s 2ms/step - loss: 0.5466 - accuracy: 0.8550
Epoch 9/10
94/94 [==============================] - 0s 2ms/step - loss: 0.4806 - accuracy: 0.8913
Epoch 10/10
94/94 [==============================] - 0s 2ms/step - loss: 0.4321 - accuracy: 0.9087
L1 Regularization... lambda: 0.001
Hyperparams... n_ch_1: 32, n_ch_2: 32, n_dense: 64, n_train_epoch: 10
-------------------- test case 1 (New dataset) --------------------
10/10 - 0s - loss: 1.3986 - accuracy: 0.4467
test_loss: 1.3985884189605713 
test_accuracy: 0.4466666579246521
-------------------- test case 2 (Split dataset) --------------------
10/10 - 0s - loss: 0.4806 - accuracy: 0.8867
test_loss: 0.48058629035949707 
test_accuracy: 0.8866666555404663


Epoch 1/10
94/94 [==============================] - 0s 2ms/step - loss: 1.2068 - accuracy: 0.3717
Epoch 2/10
94/94 [==============================] - 0s 2ms/step - loss: 1.0422 - accuracy: 0.5103
Epoch 3/10
94/94 [==============================] - 0s 2ms/step - loss: 0.8197 - accuracy: 0.6647
Epoch 4/10
94/94 [==============================] - 0s 2ms/step - loss: 0.6113 - accuracy: 0.7863
Epoch 5/10
94/94 [==============================] - 0s 2ms/step - loss: 0.4921 - accuracy: 0.8390
Epoch 6/10
94/94 [==============================] - 0s 2ms/step - loss: 0.3916 - accuracy: 0.8870
Epoch 7/10
94/94 [==============================] - 0s 2ms/step - loss: 0.3320 - accuracy: 0.9160
Epoch 8/10
94/94 [==============================] - 0s 2ms/step - loss: 0.2747 - accuracy: 0.9403
Epoch 9/10
94/94 [==============================] - 0s 2ms/step - loss: 0.2240 - accuracy: 0.9567
Epoch 10/10
94/94 [==============================] - 0s 2ms/step - loss: 0.2084 - accuracy: 0.9667
L1 Regularization... lambda: 0.0001
Hyperparams... n_ch_1: 32, n_ch_2: 32, n_dense: 64, n_train_epoch: 10
-------------------- test case 1 (New dataset) --------------------
10/10 - 0s - loss: 1.4144 - accuracy: 0.5633
test_loss: 1.4144116640090942 
test_accuracy: 0.5633333325386047
-------------------- test case 2 (Split dataset) --------------------
10/10 - 0s - loss: 0.2453 - accuracy: 0.9400
test_loss: 0.2453203797340393 
test_accuracy: 0.9399999976158142


Epoch 1/10
94/94 [==============================] - 0s 3ms/step - loss: 1.0873 - accuracy: 0.4020
Epoch 2/10
94/94 [==============================] - 0s 3ms/step - loss: 0.9478 - accuracy: 0.5597
Epoch 3/10
94/94 [==============================] - 0s 2ms/step - loss: 0.6944 - accuracy: 0.7027
Epoch 4/10
94/94 [==============================] - 0s 3ms/step - loss: 0.4540 - accuracy: 0.8377
Epoch 5/10
94/94 [==============================] - 0s 3ms/step - loss: 0.3210 - accuracy: 0.8900
Epoch 6/10
94/94 [==============================] - 0s 3ms/step - loss: 0.2406 - accuracy: 0.9217
Epoch 7/10
94/94 [==============================] - 0s 3ms/step - loss: 0.1811 - accuracy: 0.9490
Epoch 8/10
94/94 [==============================] - 0s 3ms/step - loss: 0.1442 - accuracy: 0.9613
Epoch 9/10
94/94 [==============================] - 0s 3ms/step - loss: 0.1101 - accuracy: 0.9700
Epoch 10/10
94/94 [==============================] - 0s 3ms/step - loss: 0.0842 - accuracy: 0.9810
Non-Regularization
Hyperparams... n_ch_1: 32, n_ch_2: 32, n_dense: 64, n_train_epoch: 10
-------------------- test case 1 (New dataset) --------------------
10/10 - 0s - loss: 1.5225 - accuracy: 0.5267
test_loss: 1.5224907398223877 
test_accuracy: 0.5266666412353516
-------------------- test case 2 (Split dataset) --------------------
10/10 - 0s - loss: 0.1131 - accuracy: 0.9667
test_loss: 0.11314532905817032 
test_accuracy: 0.9666666388511658


Epoch 1/10
94/94 [==============================] - 0s 2ms/step - loss: 1.4624 - accuracy: 0.3880
Epoch 2/10
94/94 [==============================] - 0s 3ms/step - loss: 1.0749 - accuracy: 0.4810
Epoch 3/10
94/94 [==============================] - 0s 3ms/step - loss: 0.9176 - accuracy: 0.6193
Epoch 4/10
94/94 [==============================] - 0s 3ms/step - loss: 0.7496 - accuracy: 0.7177
Epoch 5/10
94/94 [==============================] - 0s 3ms/step - loss: 0.6193 - accuracy: 0.7943
Epoch 6/10
94/94 [==============================] - 0s 3ms/step - loss: 0.5492 - accuracy: 0.8237
Epoch 7/10
94/94 [==============================] - 0s 3ms/step - loss: 0.4641 - accuracy: 0.8757
Epoch 8/10
94/94 [==============================] - 0s 3ms/step - loss: 0.4083 - accuracy: 0.8953
Epoch 9/10
94/94 [==============================] - 0s 3ms/step - loss: 0.3721 - accuracy: 0.9150
Epoch 10/10
94/94 [==============================] - 0s 3ms/step - loss: 0.3415 - accuracy: 0.9293
L2 Regularization... lambda: 0.01
Hyperparams... n_ch_1: 32, n_ch_2: 32, n_dense: 64, n_train_epoch: 10
-------------------- test case 1 (New dataset) --------------------
10/10 - 0s - loss: 1.2497 - accuracy: 0.5467
test_loss: 1.2496886253356934 
test_accuracy: 0.54666668176651
-------------------- test case 2 (Split dataset) --------------------
10/10 - 0s - loss: 0.3825 - accuracy: 0.9133
test_loss: 0.38252219557762146 
test_accuracy: 0.9133333563804626


Epoch 1/10
94/94 [==============================] - 0s 3ms/step - loss: 1.1510 - accuracy: 0.3830
Epoch 2/10
94/94 [==============================] - 0s 3ms/step - loss: 1.0159 - accuracy: 0.5213
Epoch 3/10
94/94 [==============================] - 0s 3ms/step - loss: 0.8110 - accuracy: 0.6480
Epoch 4/10
94/94 [==============================] - 0s 3ms/step - loss: 0.5961 - accuracy: 0.7700
Epoch 5/10
94/94 [==============================] - 0s 3ms/step - loss: 0.4532 - accuracy: 0.8457
Epoch 6/10
94/94 [==============================] - 0s 3ms/step - loss: 0.3609 - accuracy: 0.8917
Epoch 7/10
94/94 [==============================] - 0s 3ms/step - loss: 0.2885 - accuracy: 0.9217
Epoch 8/10
94/94 [==============================] - 0s 3ms/step - loss: 0.2286 - accuracy: 0.9477
Epoch 9/10
94/94 [==============================] - 0s 3ms/step - loss: 0.1997 - accuracy: 0.9590
Epoch 10/10
94/94 [==============================] - 0s 3ms/step - loss: 0.1596 - accuracy: 0.9767
L2 Regularization... lambda: 0.001
Hyperparams... n_ch_1: 32, n_ch_2: 32, n_dense: 64, n_train_epoch: 10
-------------------- test case 1 (New dataset) --------------------
10/10 - 0s - loss: 1.1693 - accuracy: 0.6600
test_loss: 1.1693439483642578 
test_accuracy: 0.6600000262260437
-------------------- test case 2 (Split dataset) --------------------
10/10 - 0s - loss: 0.2048 - accuracy: 0.9433
test_loss: 0.20480170845985413 
test_accuracy: 0.9433333277702332


Epoch 1/10
94/94 [==============================] - 0s 3ms/step - loss: 1.1018 - accuracy: 0.3743
Epoch 2/10
94/94 [==============================] - 0s 3ms/step - loss: 0.9759 - accuracy: 0.5430
Epoch 3/10
94/94 [==============================] - 0s 2ms/step - loss: 0.7012 - accuracy: 0.7090
Epoch 4/10
94/94 [==============================] - 0s 2ms/step - loss: 0.4903 - accuracy: 0.8177
Epoch 5/10
94/94 [==============================] - 0s 2ms/step - loss: 0.3568 - accuracy: 0.8857
Epoch 6/10
94/94 [==============================] - 0s 2ms/step - loss: 0.2788 - accuracy: 0.9067
Epoch 7/10
94/94 [==============================] - 0s 2ms/step - loss: 0.2067 - accuracy: 0.9460
Epoch 8/10
94/94 [==============================] - 0s 2ms/step - loss: 0.1694 - accuracy: 0.9587
Epoch 9/10
94/94 [==============================] - 0s 2ms/step - loss: 0.1206 - accuracy: 0.9767
Epoch 10/10
94/94 [==============================] - 0s 2ms/step - loss: 0.1068 - accuracy: 0.9797
L2 Regularization... lambda: 0.0001
Hyperparams... n_ch_1: 32, n_ch_2: 32, n_dense: 64, n_train_epoch: 10
-------------------- test case 1 (New dataset) --------------------
10/10 - 0s - loss: 1.1551 - accuracy: 0.6167
test_loss: 1.1550756692886353 
test_accuracy: 0.6166666746139526
-------------------- test case 2 (Split dataset) --------------------
10/10 - 0s - loss: 0.1305 - accuracy: 0.9600
test_loss: 0.13054317235946655 
test_accuracy: 0.9599999785423279


Epoch 1/10
94/94 [==============================] - 0s 2ms/step - loss: 1.0815 - accuracy: 0.3950
Epoch 2/10
94/94 [==============================] - 0s 2ms/step - loss: 0.9191 - accuracy: 0.5617
Epoch 3/10
94/94 [==============================] - 0s 2ms/step - loss: 0.6446 - accuracy: 0.7367
Epoch 4/10
94/94 [==============================] - 0s 2ms/step - loss: 0.4655 - accuracy: 0.8257
Epoch 5/10
94/94 [==============================] - 0s 2ms/step - loss: 0.3270 - accuracy: 0.8903
Epoch 6/10
94/94 [==============================] - 0s 2ms/step - loss: 0.2466 - accuracy: 0.9160
Epoch 7/10
94/94 [==============================] - 0s 2ms/step - loss: 0.1821 - accuracy: 0.9453
Epoch 8/10
94/94 [==============================] - 0s 2ms/step - loss: 0.1467 - accuracy: 0.9607
Epoch 9/10
94/94 [==============================] - 0s 2ms/step - loss: 0.0996 - accuracy: 0.9750
Epoch 10/10
94/94 [==============================] - 0s 2ms/step - loss: 0.0812 - accuracy: 0.9817
Non-Regularization
Hyperparams... n_ch_1: 32, n_ch_2: 32, n_dense: 64, n_train_epoch: 10
-------------------- test case 1 (New dataset) --------------------
10/10 - 0s - loss: 1.2725 - accuracy: 0.5467
test_loss: 1.2724734544754028 
test_accuracy: 0.54666668176651
-------------------- test case 2 (Split dataset) --------------------
10/10 - 0s - loss: 0.1011 - accuracy: 0.9733
test_loss: 0.10114806145429611 
test_accuracy: 0.9733333587646484


Epoch 1/10
94/94 [==============================] - 0s 3ms/step - loss: 8.0941 - accuracy: 0.3410
Epoch 2/10
94/94 [==============================] - 0s 3ms/step - loss: 1.1805 - accuracy: 0.3267
Epoch 3/10
94/94 [==============================] - 0s 3ms/step - loss: 1.1619 - accuracy: 0.3290
Epoch 4/10
94/94 [==============================] - 0s 3ms/step - loss: 1.1614 - accuracy: 0.3200
Epoch 5/10
94/94 [==============================] - 0s 3ms/step - loss: 1.1607 - accuracy: 0.3337
Epoch 6/10
94/94 [==============================] - 0s 3ms/step - loss: 1.1602 - accuracy: 0.3247
Epoch 7/10
94/94 [==============================] - 0s 3ms/step - loss: 1.1601 - accuracy: 0.3127
Epoch 8/10
94/94 [==============================] - 0s 3ms/step - loss: 1.1599 - accuracy: 0.3190
Epoch 9/10
94/94 [==============================] - 0s 3ms/step - loss: 1.1593 - accuracy: 0.3213
Epoch 10/10
94/94 [==============================] - 0s 3ms/step - loss: 1.1588 - accuracy: 0.3333
L1_L2 Regularization... lambda: 0.01
Hyperparams... n_ch_1: 32, n_ch_2: 32, n_dense: 64, n_train_epoch: 10
-------------------- test case 1 (New dataset) --------------------
10/10 - 0s - loss: 1.1585 - accuracy: 0.3333
test_loss: 1.158534049987793 
test_accuracy: 0.3333333432674408
-------------------- test case 2 (Split dataset) --------------------
10/10 - 0s - loss: 1.1585 - accuracy: 0.3333
test_loss: 1.1585315465927124 
test_accuracy: 0.3333333432674408


Epoch 1/10
94/94 [==============================] - 0s 3ms/step - loss: 1.9971 - accuracy: 0.3700
Epoch 2/10
94/94 [==============================] - 0s 3ms/step - loss: 1.1791 - accuracy: 0.4193
Epoch 3/10
94/94 [==============================] - 0s 3ms/step - loss: 1.0435 - accuracy: 0.5460
Epoch 4/10
94/94 [==============================] - 0s 3ms/step - loss: 0.8651 - accuracy: 0.6727
Epoch 5/10
94/94 [==============================] - 0s 3ms/step - loss: 0.7496 - accuracy: 0.7347
Epoch 6/10
94/94 [==============================] - 0s 3ms/step - loss: 0.6856 - accuracy: 0.7777
Epoch 7/10
94/94 [==============================] - 0s 3ms/step - loss: 0.6075 - accuracy: 0.8117
Epoch 8/10
94/94 [==============================] - 0s 3ms/step - loss: 0.5540 - accuracy: 0.8377
Epoch 9/10
94/94 [==============================] - 0s 3ms/step - loss: 0.5023 - accuracy: 0.8717
Epoch 10/10
94/94 [==============================] - 0s 3ms/step - loss: 0.4693 - accuracy: 0.8840
L1_L2 Regularization... lambda: 0.001
Hyperparams... n_ch_1: 32, n_ch_2: 32, n_dense: 64, n_train_epoch: 10
-------------------- test case 1 (New dataset) --------------------
10/10 - 0s - loss: 1.4397 - accuracy: 0.4267
test_loss: 1.439696192741394 
test_accuracy: 0.4266666769981384
-------------------- test case 2 (Split dataset) --------------------
10/10 - 0s - loss: 0.5240 - accuracy: 0.8633
test_loss: 0.5239875912666321 
test_accuracy: 0.8633333444595337


Epoch 1/10
94/94 [==============================] - 0s 3ms/step - loss: 1.2082 - accuracy: 0.3763
Epoch 2/10
94/94 [==============================] - 0s 3ms/step - loss: 1.0613 - accuracy: 0.5063
Epoch 3/10
94/94 [==============================] - 0s 3ms/step - loss: 0.8458 - accuracy: 0.6533
Epoch 4/10
94/94 [==============================] - 0s 3ms/step - loss: 0.6334 - accuracy: 0.7663
Epoch 5/10
94/94 [==============================] - 0s 2ms/step - loss: 0.4910 - accuracy: 0.8400
Epoch 6/10
94/94 [==============================] - 0s 2ms/step - loss: 0.4100 - accuracy: 0.8760
Epoch 7/10
94/94 [==============================] - 0s 3ms/step - loss: 0.3318 - accuracy: 0.9173
Epoch 8/10
94/94 [==============================] - 0s 2ms/step - loss: 0.2987 - accuracy: 0.9227
Epoch 9/10
94/94 [==============================] - 0s 2ms/step - loss: 0.2335 - accuracy: 0.9590
Epoch 10/10
94/94 [==============================] - 0s 2ms/step - loss: 0.2128 - accuracy: 0.9663
L1_L2 Regularization... lambda: 0.0001
Hyperparams... n_ch_1: 32, n_ch_2: 32, n_dense: 64, n_train_epoch: 10
-------------------- test case 1 (New dataset) --------------------
10/10 - 0s - loss: 1.1732 - accuracy: 0.6233
test_loss: 1.1732465028762817 
test_accuracy: 0.6233333349227905
-------------------- test case 2 (Split dataset) --------------------
10/10 - 0s - loss: 0.2401 - accuracy: 0.9533
test_loss: 0.24013651907444 
test_accuracy: 0.95333331823349


Epoch 1/10
94/94 [==============================] - 0s 2ms/step - loss: 1.1005 - accuracy: 0.3507
Epoch 2/10
94/94 [==============================] - 0s 2ms/step - loss: 1.0788 - accuracy: 0.4283
Epoch 3/10
94/94 [==============================] - 0s 2ms/step - loss: 0.9849 - accuracy: 0.5237
Epoch 4/10
94/94 [==============================] - 0s 2ms/step - loss: 0.8295 - accuracy: 0.6240
Epoch 5/10
94/94 [==============================] - 0s 2ms/step - loss: 0.6461 - accuracy: 0.7330
Epoch 6/10
94/94 [==============================] - 0s 2ms/step - loss: 0.5233 - accuracy: 0.7963
Epoch 7/10
94/94 [==============================] - 0s 2ms/step - loss: 0.4072 - accuracy: 0.8420
Epoch 8/10
94/94 [==============================] - 0s 2ms/step - loss: 0.3409 - accuracy: 0.8820
Epoch 9/10
94/94 [==============================] - 0s 2ms/step - loss: 0.2776 - accuracy: 0.9087
Epoch 10/10
94/94 [==============================] - 0s 2ms/step - loss: 0.2340 - accuracy: 0.9210
Dropout Regularization... dropout-rate: 0.5
Hyperparams... n_ch_1: 32, n_ch_2: 32, n_dense: 64, n_train_epoch: 10
-------------------- test case 1 (New dataset) --------------------
10/10 - 0s - loss: 1.2924 - accuracy: 0.5433
test_loss: 1.2923699617385864 
test_accuracy: 0.5433333516120911
-------------------- test case 2 (Split dataset) --------------------
10/10 - 0s - loss: 0.1933 - accuracy: 0.9533
test_loss: 0.19329270720481873 
test_accuracy: 0.95333331823349


Epoch 1/10
94/94 [==============================] - 0s 2ms/step - loss: 1.0940 - accuracy: 0.3677
Epoch 2/10
94/94 [==============================] - 0s 2ms/step - loss: 1.0324 - accuracy: 0.4667
Epoch 3/10
94/94 [==============================] - 0s 2ms/step - loss: 0.8269 - accuracy: 0.6323
Epoch 4/10
94/94 [==============================] - 0s 2ms/step - loss: 0.5951 - accuracy: 0.7630
Epoch 5/10
94/94 [==============================] - 0s 2ms/step - loss: 0.4487 - accuracy: 0.8297
Epoch 6/10
94/94 [==============================] - 0s 2ms/step - loss: 0.3429 - accuracy: 0.8773
Epoch 7/10
94/94 [==============================] - 0s 2ms/step - loss: 0.2681 - accuracy: 0.9100
Epoch 8/10
94/94 [==============================] - 0s 3ms/step - loss: 0.2175 - accuracy: 0.9343
Epoch 9/10
94/94 [==============================] - 0s 3ms/step - loss: 0.1823 - accuracy: 0.9427
Epoch 10/10
94/94 [==============================] - 0s 3ms/step - loss: 0.1468 - accuracy: 0.9523
Dropout Regularization... dropout-rate: 0.4000000059604645
Hyperparams... n_ch_1: 32, n_ch_2: 32, n_dense: 64, n_train_epoch: 10
-------------------- test case 1 (New dataset) --------------------
10/10 - 0s - loss: 1.2156 - accuracy: 0.5533
test_loss: 1.2156084775924683 
test_accuracy: 0.5533333420753479
-------------------- test case 2 (Split dataset) --------------------
10/10 - 0s - loss: 0.1105 - accuracy: 0.9667
test_loss: 0.1104501336812973 
test_accuracy: 0.9666666388511658


Epoch 1/10
94/94 [==============================] - 0s 3ms/step - loss: 1.0940 - accuracy: 0.3703
Epoch 2/10
94/94 [==============================] - 0s 3ms/step - loss: 1.0340 - accuracy: 0.4697
Epoch 3/10
94/94 [==============================] - 0s 3ms/step - loss: 0.8602 - accuracy: 0.6123
Epoch 4/10
94/94 [==============================] - 0s 3ms/step - loss: 0.6592 - accuracy: 0.7110
Epoch 5/10
94/94 [==============================] - 0s 3ms/step - loss: 0.4947 - accuracy: 0.8020
Epoch 6/10
94/94 [==============================] - 0s 3ms/step - loss: 0.3985 - accuracy: 0.8480
Epoch 7/10
94/94 [==============================] - 0s 3ms/step - loss: 0.3411 - accuracy: 0.8780
Epoch 8/10
94/94 [==============================] - 0s 3ms/step - loss: 0.2882 - accuracy: 0.8940
Epoch 9/10
94/94 [==============================] - 0s 3ms/step - loss: 0.2304 - accuracy: 0.9200
Epoch 10/10
94/94 [==============================] - 0s 3ms/step - loss: 0.2010 - accuracy: 0.9363
Dropout Regularization... dropout-rate: 0.30000001192092896
Hyperparams... n_ch_1: 32, n_ch_2: 32, n_dense: 64, n_train_epoch: 10
-------------------- test case 1 (New dataset) --------------------
10/10 - 0s - loss: 1.1856 - accuracy: 0.5900
test_loss: 1.1856242418289185 
test_accuracy: 0.5899999737739563
-------------------- test case 2 (Split dataset) --------------------
10/10 - 0s - loss: 0.1710 - accuracy: 0.9600
test_loss: 0.1709645390510559 
test_accuracy: 0.9599999785423279


Epoch 1/10
94/94 [==============================] - 0s 3ms/step - loss: 1.0952 - accuracy: 0.3717
Epoch 2/10
94/94 [==============================] - 0s 3ms/step - loss: 1.0112 - accuracy: 0.4920
Epoch 3/10
94/94 [==============================] - 0s 3ms/step - loss: 0.7698 - accuracy: 0.6693
Epoch 4/10
94/94 [==============================] - 0s 3ms/step - loss: 0.5332 - accuracy: 0.7933
Epoch 5/10
94/94 [==============================] - 0s 2ms/step - loss: 0.3925 - accuracy: 0.8547
Epoch 6/10
94/94 [==============================] - 0s 2ms/step - loss: 0.3008 - accuracy: 0.8940
Epoch 7/10
94/94 [==============================] - 0s 2ms/step - loss: 0.2191 - accuracy: 0.9303
Epoch 8/10
94/94 [==============================] - 0s 2ms/step - loss: 0.1632 - accuracy: 0.9533
Epoch 9/10
94/94 [==============================] - 0s 2ms/step - loss: 0.1316 - accuracy: 0.9643
Epoch 10/10
94/94 [==============================] - 0s 2ms/step - loss: 0.1037 - accuracy: 0.9700
Dropout Regularization... dropout-rate: 0.20000000298023224
Hyperparams... n_ch_1: 32, n_ch_2: 32, n_dense: 64, n_train_epoch: 10
-------------------- test case 1 (New dataset) --------------------
10/10 - 0s - loss: 1.0657 - accuracy: 0.5933
test_loss: 1.0656614303588867 
test_accuracy: 0.5933333039283752
-------------------- test case 2 (Split dataset) --------------------
10/10 - 0s - loss: 0.0897 - accuracy: 0.9767
test_loss: 0.08967644721269608 
test_accuracy: 0.9766666889190674


Epoch 1/10
94/94 [==============================] - 0s 2ms/step - loss: 1.0826 - accuracy: 0.3780
Epoch 2/10
94/94 [==============================] - 0s 2ms/step - loss: 0.9469 - accuracy: 0.5500
Epoch 3/10
94/94 [==============================] - 0s 2ms/step - loss: 0.6985 - accuracy: 0.7103
Epoch 4/10
94/94 [==============================] - 0s 2ms/step - loss: 0.4791 - accuracy: 0.8273
Epoch 5/10
94/94 [==============================] - 0s 2ms/step - loss: 0.3459 - accuracy: 0.8717
Epoch 6/10
94/94 [==============================] - 0s 2ms/step - loss: 0.2605 - accuracy: 0.9060
Epoch 7/10
94/94 [==============================] - 0s 2ms/step - loss: 0.2004 - accuracy: 0.9390
Epoch 8/10
94/94 [==============================] - 0s 2ms/step - loss: 0.1658 - accuracy: 0.9523
Epoch 9/10
94/94 [==============================] - 0s 2ms/step - loss: 0.1268 - accuracy: 0.9653
Epoch 10/10
94/94 [==============================] - 0s 2ms/step - loss: 0.1107 - accuracy: 0.9690
Dropout Regularization... dropout-rate: 0.10000000149011612
Hyperparams... n_ch_1: 32, n_ch_2: 32, n_dense: 64, n_train_epoch: 10
-------------------- test case 1 (New dataset) --------------------
10/10 - 0s - loss: 1.0242 - accuracy: 0.6333
test_loss: 1.0242255926132202 
test_accuracy: 0.6333333253860474
-------------------- test case 2 (Split dataset) --------------------
10/10 - 0s - loss: 0.1232 - accuracy: 0.9600
test_loss: 0.12319765985012054 
test_accuracy: 0.9599999785423279


Epoch 1/10
94/94 [==============================] - 0s 2ms/step - loss: 1.0872 - accuracy: 0.3977
Epoch 2/10
94/94 [==============================] - 0s 2ms/step - loss: 0.9335 - accuracy: 0.5523
Epoch 3/10
94/94 [==============================] - 0s 2ms/step - loss: 0.6449 - accuracy: 0.7327
Epoch 4/10
94/94 [==============================] - 0s 2ms/step - loss: 0.4216 - accuracy: 0.8450
Epoch 5/10
94/94 [==============================] - 0s 2ms/step - loss: 0.2816 - accuracy: 0.9077
Epoch 6/10
94/94 [==============================] - 0s 2ms/step - loss: 0.2040 - accuracy: 0.9390
Epoch 7/10
94/94 [==============================] - 0s 2ms/step - loss: 0.1573 - accuracy: 0.9593
Epoch 8/10
94/94 [==============================] - 0s 2ms/step - loss: 0.1028 - accuracy: 0.9770
Epoch 9/10
94/94 [==============================] - 0s 2ms/step - loss: 0.0799 - accuracy: 0.9853
Epoch 10/10
94/94 [==============================] - 0s 2ms/step - loss: 0.0457 - accuracy: 0.9927
Non-Regularization
Hyperparams... n_ch_1: 32, n_ch_2: 32, n_dense: 64, n_train_epoch: 10
-------------------- test case 1 (New dataset) --------------------
10/10 - 0s - loss: 0.9936 - accuracy: 0.7133
test_loss: 0.9936326146125793 
test_accuracy: 0.7133333086967468
-------------------- test case 2 (Split dataset) --------------------
10/10 - 0s - loss: 0.0602 - accuracy: 0.9767
test_loss: 0.06016410142183304 
test_accuracy: 0.9766666889190674


