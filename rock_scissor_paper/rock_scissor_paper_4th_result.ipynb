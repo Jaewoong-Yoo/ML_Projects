Epoch 1/10
94/94 [==============================] - 0s 3ms/step - loss: 1.1166 - accuracy: 0.3450
Epoch 2/10
94/94 [==============================] - 0s 2ms/step - loss: 1.0954 - accuracy: 0.3967
Epoch 3/10
94/94 [==============================] - 0s 3ms/step - loss: 1.0560 - accuracy: 0.4653
Epoch 4/10
94/94 [==============================] - 0s 3ms/step - loss: 0.9653 - accuracy: 0.5450
Epoch 5/10
94/94 [==============================] - 0s 3ms/step - loss: 0.8585 - accuracy: 0.6047
Epoch 6/10
94/94 [==============================] - 0s 3ms/step - loss: 0.7564 - accuracy: 0.6667
Epoch 7/10
94/94 [==============================] - 0s 3ms/step - loss: 0.6430 - accuracy: 0.7323
Epoch 8/10
94/94 [==============================] - 0s 3ms/step - loss: 0.5747 - accuracy: 0.7703
Epoch 9/10
94/94 [==============================] - 0s 2ms/step - loss: 0.5158 - accuracy: 0.7897
Epoch 10/10
94/94 [==============================] - 0s 2ms/step - loss: 0.4674 - accuracy: 0.8213
L2 Regularization... lambda: 0.001
Dropout Regularization... dropout-rate: 0.2
Hyperparams... n_ch_1: 16, n_ch_2: 16, n_dense: 16, n_train_epoch: 10
-------------------- test case 1 (New dataset) --------------------
10/10 - 0s - loss: 0.9965 - accuracy: 0.5667
test_loss: 0.9965329170227051 
test_accuracy: 0.5666666626930237
-------------------- test case 2 (Split dataset) --------------------
10/10 - 0s - loss: 0.3566 - accuracy: 0.9000
test_loss: 0.3565540909767151 
test_accuracy: 0.8999999761581421


Epoch 1/10
94/94 [==============================] - 0s 2ms/step - loss: 1.1310 - accuracy: 0.3663
Epoch 2/10
94/94 [==============================] - 0s 2ms/step - loss: 1.0715 - accuracy: 0.4503
Epoch 3/10
94/94 [==============================] - 0s 2ms/step - loss: 0.9464 - accuracy: 0.5817
Epoch 4/10
94/94 [==============================] - 0s 2ms/step - loss: 0.7603 - accuracy: 0.6953
Epoch 5/10
94/94 [==============================] - 0s 2ms/step - loss: 0.5855 - accuracy: 0.7870
Epoch 6/10
94/94 [==============================] - 0s 2ms/step - loss: 0.4955 - accuracy: 0.8217
Epoch 7/10
94/94 [==============================] - 0s 2ms/step - loss: 0.4039 - accuracy: 0.8647
Epoch 8/10
94/94 [==============================] - 0s 2ms/step - loss: 0.3576 - accuracy: 0.8923
Epoch 9/10
94/94 [==============================] - 0s 2ms/step - loss: 0.3081 - accuracy: 0.9160
Epoch 10/10
94/94 [==============================] - 0s 2ms/step - loss: 0.2704 - accuracy: 0.9277
L2 Regularization... lambda: 0.001
Dropout Regularization... dropout-rate: 0.2
Hyperparams... n_ch_1: 16, n_ch_2: 16, n_dense: 32, n_train_epoch: 10
-------------------- test case 1 (New dataset) --------------------
10/10 - 0s - loss: 1.1123 - accuracy: 0.5533
test_loss: 1.1123120784759521 
test_accuracy: 0.5533333420753479
-------------------- test case 2 (Split dataset) --------------------
10/10 - 0s - loss: 0.2682 - accuracy: 0.9233
test_loss: 0.2681698799133301 
test_accuracy: 0.9233333468437195


Epoch 1/10
94/94 [==============================] - 0s 2ms/step - loss: 1.1466 - accuracy: 0.3780
Epoch 2/10
94/94 [==============================] - 0s 2ms/step - loss: 1.0559 - accuracy: 0.4767
Epoch 3/10
94/94 [==============================] - 0s 2ms/step - loss: 0.9071 - accuracy: 0.5963
Epoch 4/10
94/94 [==============================] - 0s 2ms/step - loss: 0.7347 - accuracy: 0.7157
Epoch 5/10
94/94 [==============================] - 0s 2ms/step - loss: 0.5885 - accuracy: 0.7873
Epoch 6/10
94/94 [==============================] - 0s 2ms/step - loss: 0.4836 - accuracy: 0.8403
Epoch 7/10
94/94 [==============================] - 0s 2ms/step - loss: 0.4108 - accuracy: 0.8613
Epoch 8/10
94/94 [==============================] - 0s 2ms/step - loss: 0.3561 - accuracy: 0.8903
Epoch 9/10
94/94 [==============================] - 0s 2ms/step - loss: 0.2992 - accuracy: 0.9257
Epoch 10/10
94/94 [==============================] - 0s 2ms/step - loss: 0.2654 - accuracy: 0.9300
L2 Regularization... lambda: 0.001
Dropout Regularization... dropout-rate: 0.2
Hyperparams... n_ch_1: 16, n_ch_2: 16, n_dense: 64, n_train_epoch: 10
-------------------- test case 1 (New dataset) --------------------
10/10 - 0s - loss: 0.9695 - accuracy: 0.5800
test_loss: 0.9694801568984985 
test_accuracy: 0.5799999833106995
-------------------- test case 2 (Split dataset) --------------------
10/10 - 0s - loss: 0.2702 - accuracy: 0.9433
test_loss: 0.27020615339279175 
test_accuracy: 0.9433333277702332


Epoch 1/10
94/94 [==============================] - 0s 3ms/step - loss: 1.1179 - accuracy: 0.3400
Epoch 2/10
94/94 [==============================] - 0s 2ms/step - loss: 1.1071 - accuracy: 0.3293
Epoch 3/10
94/94 [==============================] - 0s 2ms/step - loss: 1.1049 - accuracy: 0.3270
Epoch 4/10
94/94 [==============================] - 0s 2ms/step - loss: 1.1028 - accuracy: 0.3273
Epoch 5/10
94/94 [==============================] - 0s 2ms/step - loss: 1.1017 - accuracy: 0.3347
Epoch 6/10
94/94 [==============================] - 0s 2ms/step - loss: 1.1010 - accuracy: 0.3207
Epoch 7/10
94/94 [==============================] - 0s 2ms/step - loss: 1.1005 - accuracy: 0.3227
Epoch 8/10
94/94 [==============================] - 0s 2ms/step - loss: 1.1001 - accuracy: 0.3283
Epoch 9/10
94/94 [==============================] - 0s 2ms/step - loss: 1.0997 - accuracy: 0.3333
Epoch 10/10
94/94 [==============================] - 0s 2ms/step - loss: 1.0996 - accuracy: 0.3157
L2 Regularization... lambda: 0.001
Dropout Regularization... dropout-rate: 0.2
Hyperparams... n_ch_1: 16, n_ch_2: 32, n_dense: 16, n_train_epoch: 10
-------------------- test case 1 (New dataset) --------------------
10/10 - 0s - loss: 1.0994 - accuracy: 0.3333
test_loss: 1.0993794202804565 
test_accuracy: 0.3333333432674408
-------------------- test case 2 (Split dataset) --------------------
10/10 - 0s - loss: 1.0994 - accuracy: 0.3333
test_loss: 1.0993794202804565 
test_accuracy: 0.3333333432674408


Epoch 1/10
94/94 [==============================] - 0s 2ms/step - loss: 1.1227 - accuracy: 0.3503
Epoch 2/10
94/94 [==============================] - 0s 3ms/step - loss: 1.0776 - accuracy: 0.4320
Epoch 3/10
94/94 [==============================] - 0s 2ms/step - loss: 0.9771 - accuracy: 0.5497
Epoch 4/10
94/94 [==============================] - 0s 2ms/step - loss: 0.8271 - accuracy: 0.6450
Epoch 5/10
94/94 [==============================] - 0s 2ms/step - loss: 0.6794 - accuracy: 0.7273
Epoch 6/10
94/94 [==============================] - 0s 2ms/step - loss: 0.5670 - accuracy: 0.7837
Epoch 7/10
94/94 [==============================] - 0s 2ms/step - loss: 0.4931 - accuracy: 0.8233
Epoch 8/10
94/94 [==============================] - 0s 2ms/step - loss: 0.4326 - accuracy: 0.8507
Epoch 9/10
94/94 [==============================] - 0s 2ms/step - loss: 0.3766 - accuracy: 0.8760
Epoch 10/10
94/94 [==============================] - 0s 2ms/step - loss: 0.3327 - accuracy: 0.9013
L2 Regularization... lambda: 0.001
Dropout Regularization... dropout-rate: 0.2
Hyperparams... n_ch_1: 16, n_ch_2: 32, n_dense: 32, n_train_epoch: 10
-------------------- test case 1 (New dataset) --------------------
10/10 - 0s - loss: 0.8261 - accuracy: 0.6800
test_loss: 0.82610684633255 
test_accuracy: 0.6800000071525574
-------------------- test case 2 (Split dataset) --------------------
10/10 - 0s - loss: 0.2804 - accuracy: 0.9367
test_loss: 0.2804153859615326 
test_accuracy: 0.9366666674613953


Epoch 1/10
94/94 [==============================] - 0s 2ms/step - loss: 1.1624 - accuracy: 0.3573
Epoch 2/10
94/94 [==============================] - 0s 2ms/step - loss: 1.0723 - accuracy: 0.4673
Epoch 3/10
94/94 [==============================] - 0s 2ms/step - loss: 0.9148 - accuracy: 0.5980
Epoch 4/10
94/94 [==============================] - 0s 2ms/step - loss: 0.7455 - accuracy: 0.6977
Epoch 5/10
94/94 [==============================] - 0s 2ms/step - loss: 0.5829 - accuracy: 0.7837
Epoch 6/10
94/94 [==============================] - 0s 2ms/step - loss: 0.4712 - accuracy: 0.8417
Epoch 7/10
94/94 [==============================] - 0s 2ms/step - loss: 0.3760 - accuracy: 0.8860
Epoch 8/10
94/94 [==============================] - 0s 2ms/step - loss: 0.3084 - accuracy: 0.9210
Epoch 9/10
94/94 [==============================] - 0s 2ms/step - loss: 0.2677 - accuracy: 0.9353
Epoch 10/10
94/94 [==============================] - 0s 2ms/step - loss: 0.2189 - accuracy: 0.9623
L2 Regularization... lambda: 0.001
Dropout Regularization... dropout-rate: 0.2
Hyperparams... n_ch_1: 16, n_ch_2: 32, n_dense: 64, n_train_epoch: 10
-------------------- test case 1 (New dataset) --------------------
10/10 - 0s - loss: 1.3599 - accuracy: 0.5533
test_loss: 1.3598747253417969 
test_accuracy: 0.5533333420753479
-------------------- test case 2 (Split dataset) --------------------
10/10 - 0s - loss: 0.2137 - accuracy: 0.9667
test_loss: 0.21373458206653595 
test_accuracy: 0.9666666388511658


Epoch 1/10
94/94 [==============================] - 0s 3ms/step - loss: 1.1181 - accuracy: 0.3267
Epoch 2/10
94/94 [==============================] - 0s 2ms/step - loss: 1.1061 - accuracy: 0.3627
Epoch 3/10
94/94 [==============================] - 0s 2ms/step - loss: 1.0939 - accuracy: 0.3870
Epoch 4/10
94/94 [==============================] - 0s 2ms/step - loss: 1.0212 - accuracy: 0.4477
Epoch 5/10
94/94 [==============================] - 0s 2ms/step - loss: 0.9292 - accuracy: 0.5130
Epoch 6/10
94/94 [==============================] - 0s 3ms/step - loss: 0.8430 - accuracy: 0.5493
Epoch 7/10
94/94 [==============================] - 0s 3ms/step - loss: 0.7301 - accuracy: 0.6623
Epoch 8/10
94/94 [==============================] - 0s 3ms/step - loss: 0.6118 - accuracy: 0.7500
Epoch 9/10
94/94 [==============================] - 0s 3ms/step - loss: 0.5382 - accuracy: 0.7857
Epoch 10/10
94/94 [==============================] - 0s 3ms/step - loss: 0.4888 - accuracy: 0.7997
L2 Regularization... lambda: 0.001
Dropout Regularization... dropout-rate: 0.2
Hyperparams... n_ch_1: 16, n_ch_2: 64, n_dense: 16, n_train_epoch: 10
-------------------- test case 1 (New dataset) --------------------
10/10 - 0s - loss: 0.9773 - accuracy: 0.6267
test_loss: 0.9772613644599915 
test_accuracy: 0.6266666650772095
-------------------- test case 2 (Split dataset) --------------------
10/10 - 0s - loss: 0.3662 - accuracy: 0.9100
test_loss: 0.36620211601257324 
test_accuracy: 0.9100000262260437


Epoch 1/10
94/94 [==============================] - 0s 3ms/step - loss: 1.1193 - accuracy: 0.3807
Epoch 2/10
94/94 [==============================] - 0s 3ms/step - loss: 0.9998 - accuracy: 0.5320
Epoch 3/10
94/94 [==============================] - 0s 3ms/step - loss: 0.7715 - accuracy: 0.6847
Epoch 4/10
94/94 [==============================] - 0s 2ms/step - loss: 0.5724 - accuracy: 0.7837
Epoch 5/10
94/94 [==============================] - 0s 2ms/step - loss: 0.4495 - accuracy: 0.8487
Epoch 6/10
94/94 [==============================] - 0s 2ms/step - loss: 0.3612 - accuracy: 0.8973
Epoch 7/10
94/94 [==============================] - 0s 2ms/step - loss: 0.3178 - accuracy: 0.9060
Epoch 8/10
94/94 [==============================] - 0s 2ms/step - loss: 0.2717 - accuracy: 0.9263
Epoch 9/10
94/94 [==============================] - 0s 2ms/step - loss: 0.2406 - accuracy: 0.9373
Epoch 10/10
94/94 [==============================] - 0s 2ms/step - loss: 0.2113 - accuracy: 0.9503
L2 Regularization... lambda: 0.001
Dropout Regularization... dropout-rate: 0.2
Hyperparams... n_ch_1: 16, n_ch_2: 64, n_dense: 32, n_train_epoch: 10
-------------------- test case 1 (New dataset) --------------------
10/10 - 0s - loss: 0.9782 - accuracy: 0.6433
test_loss: 0.978156328201294 
test_accuracy: 0.6433333158493042
-------------------- test case 2 (Split dataset) --------------------
10/10 - 0s - loss: 0.2207 - accuracy: 0.9367
test_loss: 0.22068747878074646 
test_accuracy: 0.9366666674613953


Epoch 1/10
94/94 [==============================] - 0s 2ms/step - loss: 1.1460 - accuracy: 0.3717
Epoch 2/10
94/94 [==============================] - 0s 2ms/step - loss: 1.0404 - accuracy: 0.4960
Epoch 3/10
94/94 [==============================] - 0s 2ms/step - loss: 0.8462 - accuracy: 0.6617
Epoch 4/10
94/94 [==============================] - 0s 2ms/step - loss: 0.6157 - accuracy: 0.7780
Epoch 5/10
94/94 [==============================] - 0s 2ms/step - loss: 0.5027 - accuracy: 0.8250
Epoch 6/10
94/94 [==============================] - 0s 2ms/step - loss: 0.3986 - accuracy: 0.8770
Epoch 7/10
94/94 [==============================] - 0s 2ms/step - loss: 0.3573 - accuracy: 0.8940
Epoch 8/10
94/94 [==============================] - 0s 2ms/step - loss: 0.3073 - accuracy: 0.9137
Epoch 9/10
94/94 [==============================] - 0s 2ms/step - loss: 0.2610 - accuracy: 0.9387
Epoch 10/10
94/94 [==============================] - 0s 2ms/step - loss: 0.2184 - accuracy: 0.9550
L2 Regularization... lambda: 0.001
Dropout Regularization... dropout-rate: 0.2
Hyperparams... n_ch_1: 16, n_ch_2: 64, n_dense: 64, n_train_epoch: 10
-------------------- test case 1 (New dataset) --------------------
10/10 - 0s - loss: 1.2654 - accuracy: 0.5900
test_loss: 1.2654014825820923 
test_accuracy: 0.5899999737739563
-------------------- test case 2 (Split dataset) --------------------
10/10 - 0s - loss: 0.2077 - accuracy: 0.9600
test_loss: 0.20767606794834137 
test_accuracy: 0.9599999785423279


Epoch 1/10
94/94 [==============================] - 0s 2ms/step - loss: 1.1127 - accuracy: 0.3640
Epoch 2/10
94/94 [==============================] - 0s 2ms/step - loss: 1.0854 - accuracy: 0.4070
Epoch 3/10
94/94 [==============================] - 0s 2ms/step - loss: 1.0203 - accuracy: 0.4890
Epoch 4/10
94/94 [==============================] - 0s 2ms/step - loss: 0.8922 - accuracy: 0.5953
Epoch 5/10
94/94 [==============================] - 0s 2ms/step - loss: 0.7655 - accuracy: 0.6730
Epoch 6/10
94/94 [==============================] - 0s 3ms/step - loss: 0.6539 - accuracy: 0.7310
Epoch 7/10
94/94 [==============================] - 0s 3ms/step - loss: 0.5492 - accuracy: 0.7777
Epoch 8/10
94/94 [==============================] - 0s 2ms/step - loss: 0.4823 - accuracy: 0.8170
Epoch 9/10
94/94 [==============================] - 0s 2ms/step - loss: 0.4203 - accuracy: 0.8517
Epoch 10/10
94/94 [==============================] - 0s 2ms/step - loss: 0.3756 - accuracy: 0.8753
L2 Regularization... lambda: 0.001
Dropout Regularization... dropout-rate: 0.2
Hyperparams... n_ch_1: 32, n_ch_2: 16, n_dense: 16, n_train_epoch: 10
-------------------- test case 1 (New dataset) --------------------
10/10 - 0s - loss: 0.9931 - accuracy: 0.5967
test_loss: 0.9930772185325623 
test_accuracy: 0.596666693687439
-------------------- test case 2 (Split dataset) --------------------
10/10 - 0s - loss: 0.3117 - accuracy: 0.9033
test_loss: 0.31166720390319824 
test_accuracy: 0.903333306312561


Epoch 1/10
94/94 [==============================] - 0s 2ms/step - loss: 1.1286 - accuracy: 0.3637
Epoch 2/10
94/94 [==============================] - 0s 2ms/step - loss: 1.0764 - accuracy: 0.4443
Epoch 3/10
94/94 [==============================] - 0s 2ms/step - loss: 0.9814 - accuracy: 0.5297
Epoch 4/10
94/94 [==============================] - 0s 2ms/step - loss: 0.8173 - accuracy: 0.6423
Epoch 5/10
94/94 [==============================] - 0s 2ms/step - loss: 0.6743 - accuracy: 0.7320
Epoch 6/10
94/94 [==============================] - 0s 2ms/step - loss: 0.5586 - accuracy: 0.7907
Epoch 7/10
94/94 [==============================] - 0s 2ms/step - loss: 0.4926 - accuracy: 0.8120
Epoch 8/10
94/94 [==============================] - 0s 2ms/step - loss: 0.4164 - accuracy: 0.8533
Epoch 9/10
94/94 [==============================] - 0s 2ms/step - loss: 0.3810 - accuracy: 0.8693
Epoch 10/10
94/94 [==============================] - 0s 2ms/step - loss: 0.3193 - accuracy: 0.9000
L2 Regularization... lambda: 0.001
Dropout Regularization... dropout-rate: 0.2
Hyperparams... n_ch_1: 32, n_ch_2: 16, n_dense: 32, n_train_epoch: 10
-------------------- test case 1 (New dataset) --------------------
10/10 - 0s - loss: 1.0320 - accuracy: 0.6100
test_loss: 1.0320334434509277 
test_accuracy: 0.6100000143051147
-------------------- test case 2 (Split dataset) --------------------
10/10 - 0s - loss: 0.3071 - accuracy: 0.9200
test_loss: 0.30708038806915283 
test_accuracy: 0.9200000166893005


Epoch 1/10
94/94 [==============================] - 0s 3ms/step - loss: 1.1535 - accuracy: 0.3633
Epoch 2/10
94/94 [==============================] - 0s 2ms/step - loss: 1.0620 - accuracy: 0.4750
Epoch 3/10
94/94 [==============================] - 0s 2ms/step - loss: 0.9160 - accuracy: 0.5893
Epoch 4/10
94/94 [==============================] - 0s 2ms/step - loss: 0.7673 - accuracy: 0.6773
Epoch 5/10
94/94 [==============================] - 0s 2ms/step - loss: 0.6171 - accuracy: 0.7540
Epoch 6/10
94/94 [==============================] - 0s 2ms/step - loss: 0.4800 - accuracy: 0.8343
Epoch 7/10
94/94 [==============================] - 0s 2ms/step - loss: 0.4021 - accuracy: 0.8740
Epoch 8/10
94/94 [==============================] - 0s 2ms/step - loss: 0.3442 - accuracy: 0.8897
Epoch 9/10
94/94 [==============================] - 0s 2ms/step - loss: 0.3005 - accuracy: 0.9140
Epoch 10/10
94/94 [==============================] - 0s 3ms/step - loss: 0.2417 - accuracy: 0.9437
L2 Regularization... lambda: 0.001
Dropout Regularization... dropout-rate: 0.2
Hyperparams... n_ch_1: 32, n_ch_2: 16, n_dense: 64, n_train_epoch: 10
-------------------- test case 1 (New dataset) --------------------
10/10 - 0s - loss: 0.9594 - accuracy: 0.6967
test_loss: 0.9593999981880188 
test_accuracy: 0.6966666579246521
-------------------- test case 2 (Split dataset) --------------------
10/10 - 0s - loss: 0.2112 - accuracy: 0.9633
test_loss: 0.21121320128440857 
test_accuracy: 0.9633333086967468


Epoch 1/10
94/94 [==============================] - 0s 3ms/step - loss: 1.1180 - accuracy: 0.3380
Epoch 2/10
94/94 [==============================] - 0s 2ms/step - loss: 1.0813 - accuracy: 0.4197
Epoch 3/10
94/94 [==============================] - 0s 2ms/step - loss: 0.9624 - accuracy: 0.5470
Epoch 4/10
94/94 [==============================] - 0s 2ms/step - loss: 0.7989 - accuracy: 0.6387
Epoch 5/10
94/94 [==============================] - 0s 2ms/step - loss: 0.6479 - accuracy: 0.7343
Epoch 6/10
94/94 [==============================] - 0s 3ms/step - loss: 0.5347 - accuracy: 0.7810
Epoch 7/10
94/94 [==============================] - 0s 2ms/step - loss: 0.4645 - accuracy: 0.8270
Epoch 8/10
94/94 [==============================] - 0s 3ms/step - loss: 0.4125 - accuracy: 0.8477
Epoch 9/10
94/94 [==============================] - 0s 3ms/step - loss: 0.3549 - accuracy: 0.8670
Epoch 10/10
94/94 [==============================] - 0s 3ms/step - loss: 0.3189 - accuracy: 0.8917
L2 Regularization... lambda: 0.001
Dropout Regularization... dropout-rate: 0.2
Hyperparams... n_ch_1: 32, n_ch_2: 32, n_dense: 16, n_train_epoch: 10
-------------------- test case 1 (New dataset) --------------------
10/10 - 0s - loss: 0.9583 - accuracy: 0.6533
test_loss: 0.958255410194397 
test_accuracy: 0.653333306312561
-------------------- test case 2 (Split dataset) --------------------
10/10 - 0s - loss: 0.2916 - accuracy: 0.9033
test_loss: 0.29155778884887695 
test_accuracy: 0.903333306312561


Epoch 1/10
94/94 [==============================] - 0s 2ms/step - loss: 1.1224 - accuracy: 0.3823
Epoch 2/10
94/94 [==============================] - 0s 2ms/step - loss: 1.0507 - accuracy: 0.4687
Epoch 3/10
94/94 [==============================] - 0s 2ms/step - loss: 0.9045 - accuracy: 0.5833
Epoch 4/10
94/94 [==============================] - 0s 2ms/step - loss: 0.7016 - accuracy: 0.7113
Epoch 5/10
94/94 [==============================] - 0s 2ms/step - loss: 0.5399 - accuracy: 0.7920
Epoch 6/10
94/94 [==============================] - 0s 2ms/step - loss: 0.4375 - accuracy: 0.8457
Epoch 7/10
94/94 [==============================] - 0s 2ms/step - loss: 0.3854 - accuracy: 0.8660
Epoch 8/10
94/94 [==============================] - 0s 2ms/step - loss: 0.3084 - accuracy: 0.9077
Epoch 9/10
94/94 [==============================] - 0s 2ms/step - loss: 0.2652 - accuracy: 0.9267
Epoch 10/10
94/94 [==============================] - 0s 2ms/step - loss: 0.2285 - accuracy: 0.9447
L2 Regularization... lambda: 0.001
Dropout Regularization... dropout-rate: 0.2
Hyperparams... n_ch_1: 32, n_ch_2: 32, n_dense: 32, n_train_epoch: 10
-------------------- test case 1 (New dataset) --------------------
10/10 - 0s - loss: 1.0789 - accuracy: 0.5800
test_loss: 1.078875184059143 
test_accuracy: 0.5799999833106995
-------------------- test case 2 (Split dataset) --------------------
10/10 - 0s - loss: 0.2207 - accuracy: 0.9500
test_loss: 0.2207067310810089 
test_accuracy: 0.949999988079071


Epoch 1/10
94/94 [==============================] - 0s 3ms/step - loss: 1.1475 - accuracy: 0.3807
Epoch 2/10
94/94 [==============================] - 0s 3ms/step - loss: 1.0369 - accuracy: 0.4890
Epoch 3/10
94/94 [==============================] - 0s 2ms/step - loss: 0.8298 - accuracy: 0.6460
Epoch 4/10
94/94 [==============================] - 0s 2ms/step - loss: 0.6107 - accuracy: 0.7667
Epoch 5/10
94/94 [==============================] - 0s 2ms/step - loss: 0.4641 - accuracy: 0.8423
Epoch 6/10
94/94 [==============================] - 0s 2ms/step - loss: 0.3636 - accuracy: 0.8930
Epoch 7/10
94/94 [==============================] - 0s 2ms/step - loss: 0.3013 - accuracy: 0.9190
Epoch 8/10
94/94 [==============================] - 0s 2ms/step - loss: 0.2343 - accuracy: 0.9490
Epoch 9/10
94/94 [==============================] - 0s 2ms/step - loss: 0.2006 - accuracy: 0.9613
Epoch 10/10
94/94 [==============================] - 0s 2ms/step - loss: 0.1775 - accuracy: 0.9717
L2 Regularization... lambda: 0.001
Dropout Regularization... dropout-rate: 0.2
Hyperparams... n_ch_1: 32, n_ch_2: 32, n_dense: 64, n_train_epoch: 10
-------------------- test case 1 (New dataset) --------------------
10/10 - 0s - loss: 1.2240 - accuracy: 0.5667
test_loss: 1.2240242958068848 
test_accuracy: 0.5666666626930237
-------------------- test case 2 (Split dataset) --------------------
10/10 - 0s - loss: 0.1725 - accuracy: 0.9667
test_loss: 0.17254510521888733 
test_accuracy: 0.9666666388511658


Epoch 1/10
94/94 [==============================] - 0s 3ms/step - loss: 1.1156 - accuracy: 0.3327
Epoch 2/10
94/94 [==============================] - 0s 2ms/step - loss: 1.1013 - accuracy: 0.3757
Epoch 3/10
94/94 [==============================] - 0s 2ms/step - loss: 1.0835 - accuracy: 0.4077
Epoch 4/10
94/94 [==============================] - 0s 2ms/step - loss: 1.0066 - accuracy: 0.4513
Epoch 5/10
94/94 [==============================] - 0s 2ms/step - loss: 0.9497 - accuracy: 0.4977
Epoch 6/10
94/94 [==============================] - 0s 2ms/step - loss: 0.8832 - accuracy: 0.5370
Epoch 7/10
94/94 [==============================] - 0s 2ms/step - loss: 0.8176 - accuracy: 0.5977
Epoch 8/10
94/94 [==============================] - 0s 2ms/step - loss: 0.7013 - accuracy: 0.6823
Epoch 9/10
94/94 [==============================] - 0s 2ms/step - loss: 0.5968 - accuracy: 0.7297
Epoch 10/10
94/94 [==============================] - 0s 2ms/step - loss: 0.5221 - accuracy: 0.7650
L2 Regularization... lambda: 0.001
Dropout Regularization... dropout-rate: 0.2
Hyperparams... n_ch_1: 32, n_ch_2: 64, n_dense: 16, n_train_epoch: 10
-------------------- test case 1 (New dataset) --------------------
10/10 - 0s - loss: 1.1001 - accuracy: 0.5367
test_loss: 1.100072979927063 
test_accuracy: 0.5366666913032532
-------------------- test case 2 (Split dataset) --------------------
10/10 - 0s - loss: 0.3861 - accuracy: 0.8867
test_loss: 0.3860520124435425 
test_accuracy: 0.8866666555404663


Epoch 1/10
94/94 [==============================] - 0s 2ms/step - loss: 1.1224 - accuracy: 0.3680
Epoch 2/10
94/94 [==============================] - 0s 2ms/step - loss: 1.0315 - accuracy: 0.4903
Epoch 3/10
94/94 [==============================] - 0s 2ms/step - loss: 0.8096 - accuracy: 0.6697
Epoch 4/10
94/94 [==============================] - 0s 2ms/step - loss: 0.5973 - accuracy: 0.7820
Epoch 5/10
94/94 [==============================] - 0s 2ms/step - loss: 0.4685 - accuracy: 0.8367
Epoch 6/10
94/94 [==============================] - 0s 2ms/step - loss: 0.3877 - accuracy: 0.8743
Epoch 7/10
94/94 [==============================] - 0s 2ms/step - loss: 0.3034 - accuracy: 0.9147
Epoch 8/10
94/94 [==============================] - 0s 2ms/step - loss: 0.2673 - accuracy: 0.9300
Epoch 9/10
94/94 [==============================] - 0s 2ms/step - loss: 0.2150 - accuracy: 0.9477
Epoch 10/10
94/94 [==============================] - 0s 2ms/step - loss: 0.1790 - accuracy: 0.9643
L2 Regularization... lambda: 0.001
Dropout Regularization... dropout-rate: 0.2
Hyperparams... n_ch_1: 32, n_ch_2: 64, n_dense: 32, n_train_epoch: 10
-------------------- test case 1 (New dataset) --------------------
10/10 - 0s - loss: 1.1385 - accuracy: 0.6100
test_loss: 1.1385085582733154 
test_accuracy: 0.6100000143051147
-------------------- test case 2 (Split dataset) --------------------
10/10 - 0s - loss: 0.1915 - accuracy: 0.9533
test_loss: 0.19150970876216888 
test_accuracy: 0.95333331823349


Epoch 1/10
94/94 [==============================] - 0s 2ms/step - loss: 1.1493 - accuracy: 0.3527
Epoch 2/10
94/94 [==============================] - 0s 2ms/step - loss: 1.0627 - accuracy: 0.4583
Epoch 3/10
94/94 [==============================] - 0s 2ms/step - loss: 0.8425 - accuracy: 0.6323
Epoch 4/10
94/94 [==============================] - 0s 2ms/step - loss: 0.5979 - accuracy: 0.7810
Epoch 5/10
94/94 [==============================] - 0s 2ms/step - loss: 0.4412 - accuracy: 0.8577
Epoch 6/10
94/94 [==============================] - 0s 2ms/step - loss: 0.3577 - accuracy: 0.8943
Epoch 7/10
94/94 [==============================] - 0s 2ms/step - loss: 0.2900 - accuracy: 0.9207
Epoch 8/10
94/94 [==============================] - 0s 2ms/step - loss: 0.2281 - accuracy: 0.9473
Epoch 9/10
94/94 [==============================] - 0s 2ms/step - loss: 0.2095 - accuracy: 0.9540
Epoch 10/10
94/94 [==============================] - 0s 2ms/step - loss: 0.1947 - accuracy: 0.9593
L2 Regularization... lambda: 0.001
Dropout Regularization... dropout-rate: 0.2
Hyperparams... n_ch_1: 32, n_ch_2: 64, n_dense: 64, n_train_epoch: 10
-------------------- test case 1 (New dataset) --------------------
10/10 - 0s - loss: 1.0252 - accuracy: 0.6200
test_loss: 1.0251766443252563 
test_accuracy: 0.6200000047683716
-------------------- test case 2 (Split dataset) --------------------
10/10 - 0s - loss: 0.1594 - accuracy: 0.9800
test_loss: 0.15940766036510468 
test_accuracy: 0.9800000190734863


Epoch 1/10
94/94 [==============================] - 0s 3ms/step - loss: 1.1205 - accuracy: 0.3417
Epoch 2/10
94/94 [==============================] - 0s 2ms/step - loss: 1.1008 - accuracy: 0.3827
Epoch 3/10
94/94 [==============================] - 0s 2ms/step - loss: 1.0552 - accuracy: 0.4430
Epoch 4/10
94/94 [==============================] - 0s 2ms/step - loss: 0.9859 - accuracy: 0.5120
Epoch 5/10
94/94 [==============================] - 0s 2ms/step - loss: 0.8471 - accuracy: 0.6180
Epoch 6/10
94/94 [==============================] - 0s 2ms/step - loss: 0.6996 - accuracy: 0.6913
Epoch 7/10
94/94 [==============================] - 0s 2ms/step - loss: 0.5805 - accuracy: 0.7587
Epoch 8/10
94/94 [==============================] - 0s 2ms/step - loss: 0.4943 - accuracy: 0.8047
Epoch 9/10
94/94 [==============================] - 0s 3ms/step - loss: 0.4379 - accuracy: 0.8343
Epoch 10/10
94/94 [==============================] - 0s 3ms/step - loss: 0.4196 - accuracy: 0.8357
L2 Regularization... lambda: 0.001
Dropout Regularization... dropout-rate: 0.2
Hyperparams... n_ch_1: 64, n_ch_2: 16, n_dense: 16, n_train_epoch: 10
-------------------- test case 1 (New dataset) --------------------
10/10 - 0s - loss: 1.1251 - accuracy: 0.5667
test_loss: 1.1250672340393066 
test_accuracy: 0.5666666626930237
-------------------- test case 2 (Split dataset) --------------------
10/10 - 0s - loss: 0.3449 - accuracy: 0.8833
test_loss: 0.3449147045612335 
test_accuracy: 0.8833333253860474


Epoch 1/10
94/94 [==============================] - 0s 2ms/step - loss: 1.1312 - accuracy: 0.3593
Epoch 2/10
94/94 [==============================] - 0s 2ms/step - loss: 1.0936 - accuracy: 0.4363
Epoch 3/10
94/94 [==============================] - 0s 2ms/step - loss: 1.0054 - accuracy: 0.5120
Epoch 4/10
94/94 [==============================] - 0s 3ms/step - loss: 0.8510 - accuracy: 0.6263
Epoch 5/10
94/94 [==============================] - 0s 2ms/step - loss: 0.7076 - accuracy: 0.7100
Epoch 6/10
94/94 [==============================] - 0s 2ms/step - loss: 0.6034 - accuracy: 0.7570
Epoch 7/10
94/94 [==============================] - 0s 2ms/step - loss: 0.4847 - accuracy: 0.8217
Epoch 8/10
94/94 [==============================] - 0s 2ms/step - loss: 0.4323 - accuracy: 0.8307
Epoch 9/10
94/94 [==============================] - 0s 2ms/step - loss: 0.3840 - accuracy: 0.8617
Epoch 10/10
94/94 [==============================] - 0s 2ms/step - loss: 0.3407 - accuracy: 0.8887
L2 Regularization... lambda: 0.001
Dropout Regularization... dropout-rate: 0.2
Hyperparams... n_ch_1: 64, n_ch_2: 16, n_dense: 32, n_train_epoch: 10
-------------------- test case 1 (New dataset) --------------------
10/10 - 0s - loss: 1.1186 - accuracy: 0.5667
test_loss: 1.1185745000839233 
test_accuracy: 0.5666666626930237
-------------------- test case 2 (Split dataset) --------------------
10/10 - 0s - loss: 0.3088 - accuracy: 0.9033
test_loss: 0.3088430166244507 
test_accuracy: 0.903333306312561


Epoch 1/10
94/94 [==============================] - 0s 2ms/step - loss: 1.1636 - accuracy: 0.3673
Epoch 2/10
94/94 [==============================] - 0s 2ms/step - loss: 1.0845 - accuracy: 0.4570
Epoch 3/10
94/94 [==============================] - 0s 2ms/step - loss: 0.9475 - accuracy: 0.5843
Epoch 4/10
94/94 [==============================] - 0s 2ms/step - loss: 0.7543 - accuracy: 0.7043
Epoch 5/10
94/94 [==============================] - 0s 2ms/step - loss: 0.5737 - accuracy: 0.7890
Epoch 6/10
94/94 [==============================] - 0s 2ms/step - loss: 0.4589 - accuracy: 0.8507
Epoch 7/10
94/94 [==============================] - 0s 2ms/step - loss: 0.3732 - accuracy: 0.8843
Epoch 8/10
94/94 [==============================] - 0s 2ms/step - loss: 0.3172 - accuracy: 0.9110
Epoch 9/10
94/94 [==============================] - 0s 2ms/step - loss: 0.2686 - accuracy: 0.9280
Epoch 10/10
94/94 [==============================] - 0s 2ms/step - loss: 0.2388 - accuracy: 0.9403
L2 Regularization... lambda: 0.001
Dropout Regularization... dropout-rate: 0.2
Hyperparams... n_ch_1: 64, n_ch_2: 16, n_dense: 64, n_train_epoch: 10
-------------------- test case 1 (New dataset) --------------------
10/10 - 0s - loss: 1.4840 - accuracy: 0.5100
test_loss: 1.4839539527893066 
test_accuracy: 0.5099999904632568
-------------------- test case 2 (Split dataset) --------------------
10/10 - 0s - loss: 0.2664 - accuracy: 0.9300
test_loss: 0.266426682472229 
test_accuracy: 0.9300000071525574


Epoch 1/10
94/94 [==============================] - 0s 3ms/step - loss: 1.1145 - accuracy: 0.3383
Epoch 2/10
94/94 [==============================] - 0s 2ms/step - loss: 1.0983 - accuracy: 0.3657
Epoch 3/10
94/94 [==============================] - 0s 3ms/step - loss: 1.0642 - accuracy: 0.4257
Epoch 4/10
94/94 [==============================] - 0s 3ms/step - loss: 0.9811 - accuracy: 0.5090
Epoch 5/10
94/94 [==============================] - 0s 2ms/step - loss: 0.8328 - accuracy: 0.5943
Epoch 6/10
94/94 [==============================] - 0s 2ms/step - loss: 0.7030 - accuracy: 0.6893
Epoch 7/10
94/94 [==============================] - 0s 2ms/step - loss: 0.6174 - accuracy: 0.7360
Epoch 8/10
94/94 [==============================] - 0s 2ms/step - loss: 0.5631 - accuracy: 0.7550
Epoch 9/10
94/94 [==============================] - 0s 3ms/step - loss: 0.4932 - accuracy: 0.7993
Epoch 10/10
94/94 [==============================] - 0s 2ms/step - loss: 0.4487 - accuracy: 0.8187
L2 Regularization... lambda: 0.001
Dropout Regularization... dropout-rate: 0.2
Hyperparams... n_ch_1: 64, n_ch_2: 32, n_dense: 16, n_train_epoch: 10
-------------------- test case 1 (New dataset) --------------------
10/10 - 0s - loss: 1.0195 - accuracy: 0.5567
test_loss: 1.0195268392562866 
test_accuracy: 0.5566666722297668
-------------------- test case 2 (Split dataset) --------------------
10/10 - 0s - loss: 0.3011 - accuracy: 0.9333
test_loss: 0.30110448598861694 
test_accuracy: 0.9333333373069763


Epoch 1/10
94/94 [==============================] - 0s 2ms/step - loss: 1.1288 - accuracy: 0.3527
Epoch 2/10
94/94 [==============================] - 0s 2ms/step - loss: 1.0804 - accuracy: 0.4127
Epoch 3/10
94/94 [==============================] - 0s 2ms/step - loss: 0.9502 - accuracy: 0.5437
Epoch 4/10
94/94 [==============================] - 0s 2ms/step - loss: 0.7634 - accuracy: 0.6797
Epoch 5/10
94/94 [==============================] - 0s 2ms/step - loss: 0.5840 - accuracy: 0.7743
Epoch 6/10
94/94 [==============================] - 0s 2ms/step - loss: 0.4616 - accuracy: 0.8337
Epoch 7/10
94/94 [==============================] - 0s 2ms/step - loss: 0.3753 - accuracy: 0.8753
Epoch 8/10
94/94 [==============================] - 0s 2ms/step - loss: 0.3225 - accuracy: 0.8963
Epoch 9/10
94/94 [==============================] - 0s 2ms/step - loss: 0.2854 - accuracy: 0.9107
Epoch 10/10
94/94 [==============================] - 0s 2ms/step - loss: 0.2411 - accuracy: 0.9343
L2 Regularization... lambda: 0.001
Dropout Regularization... dropout-rate: 0.2
Hyperparams... n_ch_1: 64, n_ch_2: 32, n_dense: 32, n_train_epoch: 10
-------------------- test case 1 (New dataset) --------------------
10/10 - 0s - loss: 1.1918 - accuracy: 0.6167
test_loss: 1.1918377876281738 
test_accuracy: 0.6166666746139526
-------------------- test case 2 (Split dataset) --------------------
10/10 - 0s - loss: 0.2130 - accuracy: 0.9333
test_loss: 0.21298976242542267 
test_accuracy: 0.9333333373069763


Epoch 1/10
94/94 [==============================] - 0s 2ms/step - loss: 1.1528 - accuracy: 0.3457
Epoch 2/10
94/94 [==============================] - 0s 2ms/step - loss: 1.0809 - accuracy: 0.4543
Epoch 3/10
94/94 [==============================] - 0s 2ms/step - loss: 0.9021 - accuracy: 0.6083
Epoch 4/10
94/94 [==============================] - 0s 2ms/step - loss: 0.6711 - accuracy: 0.7260
Epoch 5/10
94/94 [==============================] - 0s 2ms/step - loss: 0.5209 - accuracy: 0.7983
Epoch 6/10
94/94 [==============================] - 0s 2ms/step - loss: 0.4207 - accuracy: 0.8503
Epoch 7/10
94/94 [==============================] - 0s 2ms/step - loss: 0.3505 - accuracy: 0.8753
Epoch 8/10
94/94 [==============================] - 0s 2ms/step - loss: 0.3150 - accuracy: 0.8907
Epoch 9/10
94/94 [==============================] - 0s 2ms/step - loss: 0.2577 - accuracy: 0.9230
Epoch 10/10
94/94 [==============================] - 0s 2ms/step - loss: 0.2142 - accuracy: 0.9380
L2 Regularization... lambda: 0.001
Dropout Regularization... dropout-rate: 0.2
Hyperparams... n_ch_1: 64, n_ch_2: 32, n_dense: 64, n_train_epoch: 10
-------------------- test case 1 (New dataset) --------------------
10/10 - 0s - loss: 0.8584 - accuracy: 0.6933
test_loss: 0.8583879470825195 
test_accuracy: 0.6933333277702332
-------------------- test case 2 (Split dataset) --------------------
10/10 - 0s - loss: 0.2367 - accuracy: 0.9133
test_loss: 0.2367197424173355 
test_accuracy: 0.9133333563804626


Epoch 1/10
94/94 [==============================] - 0s 3ms/step - loss: 1.1162 - accuracy: 0.3513
Epoch 2/10
94/94 [==============================] - 0s 2ms/step - loss: 1.0857 - accuracy: 0.3960
Epoch 3/10
94/94 [==============================] - 0s 2ms/step - loss: 0.9814 - accuracy: 0.5057
Epoch 4/10
94/94 [==============================] - 0s 2ms/step - loss: 0.8567 - accuracy: 0.5993
Epoch 5/10
94/94 [==============================] - 0s 2ms/step - loss: 0.7318 - accuracy: 0.6860
Epoch 6/10
94/94 [==============================] - 0s 2ms/step - loss: 0.6211 - accuracy: 0.7450
Epoch 7/10
94/94 [==============================] - 0s 2ms/step - loss: 0.5199 - accuracy: 0.8047
Epoch 8/10
94/94 [==============================] - 0s 2ms/step - loss: 0.4492 - accuracy: 0.8280
Epoch 9/10
94/94 [==============================] - 0s 2ms/step - loss: 0.3901 - accuracy: 0.8540
Epoch 10/10
94/94 [==============================] - 0s 2ms/step - loss: 0.3577 - accuracy: 0.8703
L2 Regularization... lambda: 0.001
Dropout Regularization... dropout-rate: 0.2
Hyperparams... n_ch_1: 64, n_ch_2: 64, n_dense: 16, n_train_epoch: 10
-------------------- test case 1 (New dataset) --------------------
10/10 - 0s - loss: 1.0930 - accuracy: 0.5667
test_loss: 1.0929893255233765 
test_accuracy: 0.5666666626930237
-------------------- test case 2 (Split dataset) --------------------
10/10 - 0s - loss: 0.2259 - accuracy: 0.9533
test_loss: 0.22587841749191284 
test_accuracy: 0.95333331823349


Epoch 1/10
94/94 [==============================] - 0s 2ms/step - loss: 1.1185 - accuracy: 0.3727
Epoch 2/10
94/94 [==============================] - 0s 2ms/step - loss: 1.0280 - accuracy: 0.4713
Epoch 3/10
94/94 [==============================] - 0s 2ms/step - loss: 0.7912 - accuracy: 0.6547
Epoch 4/10
94/94 [==============================] - 0s 2ms/step - loss: 0.5866 - accuracy: 0.7717
Epoch 5/10
94/94 [==============================] - 0s 2ms/step - loss: 0.4523 - accuracy: 0.8317
Epoch 6/10
94/94 [==============================] - 0s 2ms/step - loss: 0.3633 - accuracy: 0.8813
Epoch 7/10
94/94 [==============================] - 0s 2ms/step - loss: 0.3079 - accuracy: 0.9023
Epoch 8/10
94/94 [==============================] - 0s 2ms/step - loss: 0.2558 - accuracy: 0.9273
Epoch 9/10
94/94 [==============================] - 0s 2ms/step - loss: 0.2187 - accuracy: 0.9400
Epoch 10/10
94/94 [==============================] - 0s 2ms/step - loss: 0.1886 - accuracy: 0.9517
L2 Regularization... lambda: 0.001
Dropout Regularization... dropout-rate: 0.2
Hyperparams... n_ch_1: 64, n_ch_2: 64, n_dense: 32, n_train_epoch: 10
-------------------- test case 1 (New dataset) --------------------
10/10 - 0s - loss: 1.2063 - accuracy: 0.5933
test_loss: 1.2062888145446777 
test_accuracy: 0.5933333039283752
-------------------- test case 2 (Split dataset) --------------------
10/10 - 0s - loss: 0.1525 - accuracy: 0.9600
test_loss: 0.1525377482175827 
test_accuracy: 0.9599999785423279


Epoch 1/10
94/94 [==============================] - 0s 2ms/step - loss: 1.1417 - accuracy: 0.3597
Epoch 2/10
94/94 [==============================] - 0s 3ms/step - loss: 0.9837 - accuracy: 0.5457
Epoch 3/10
94/94 [==============================] - 0s 3ms/step - loss: 0.6834 - accuracy: 0.7317
Epoch 4/10
94/94 [==============================] - 0s 2ms/step - loss: 0.4862 - accuracy: 0.8270
Epoch 5/10
94/94 [==============================] - 0s 3ms/step - loss: 0.3709 - accuracy: 0.8820
Epoch 6/10
94/94 [==============================] - 0s 3ms/step - loss: 0.2897 - accuracy: 0.9173
Epoch 7/10
94/94 [==============================] - 0s 2ms/step - loss: 0.2471 - accuracy: 0.9360
Epoch 8/10
94/94 [==============================] - 0s 2ms/step - loss: 0.2147 - accuracy: 0.9500
Epoch 9/10
94/94 [==============================] - 0s 2ms/step - loss: 0.1606 - accuracy: 0.9737
Epoch 10/10
94/94 [==============================] - 0s 2ms/step - loss: 0.1548 - accuracy: 0.9733
L2 Regularization... lambda: 0.001
Dropout Regularization... dropout-rate: 0.2
Hyperparams... n_ch_1: 64, n_ch_2: 64, n_dense: 64, n_train_epoch: 10
-------------------- test case 1 (New dataset) --------------------
10/10 - 0s - loss: 1.2646 - accuracy: 0.6033
test_loss: 1.2645922899246216 
test_accuracy: 0.6033333539962769
-------------------- test case 2 (Split dataset) --------------------
10/10 - 0s - loss: 0.1524 - accuracy: 0.9600
test_loss: 0.1524454653263092 
test_accuracy: 0.9599999785423279


