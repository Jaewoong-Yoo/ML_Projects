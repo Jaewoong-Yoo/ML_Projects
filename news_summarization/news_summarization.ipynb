{
  "nbformat": 4,
  "nbformat_minor": 0,
  "metadata": {
    "colab": {
      "name": "news_summarization.ipynb",
      "provenance": [],
      "machine_shape": "hm"
    },
    "kernelspec": {
      "name": "python3",
      "display_name": "Python 3"
    },
    "language_info": {
      "name": "python"
    },
    "accelerator": "GPU"
  },
  "cells": [
    {
      "cell_type": "markdown",
      "metadata": {
        "id": "tJ4TD_nH3_DH"
      },
      "source": [
        "# News Summarization with Attention Mechanism"
      ]
    },
    {
      "cell_type": "code",
      "metadata": {
        "colab": {
          "base_uri": "https://localhost:8080/"
        },
        "id": "PzlwxwjuPVmo",
        "outputId": "22e4b63d-79f7-457a-8897-9bc962acd04c"
      },
      "source": [
        "###################################################################\n",
        "### Cehck tensorflow version to prevent the following TypeError ###\n",
        "###################################################################\n",
        "! pip install tensorflow==2.4.1\n",
        "# TypeError: Cannot convert a symbolic Keras input/output to a numpy array. \n",
        "# This error may indicate that you're trying to pass a symbolic value to \n",
        "# a NumPy call, which is not supported. Or, you may be trying to pass Keras \n",
        "# symbolic inputs/outputs to a TF API that does not register dispatching, \n",
        "# preventing Keras from automatically converting the API call to a lambda \n",
        "# layer in the Functional Model."
      ],
      "execution_count": 1,
      "outputs": [
        {
          "output_type": "stream",
          "name": "stdout",
          "text": [
            "Requirement already satisfied: tensorflow==2.4.1 in /usr/local/lib/python3.7/dist-packages (2.4.1)\n",
            "Requirement already satisfied: google-pasta~=0.2 in /usr/local/lib/python3.7/dist-packages (from tensorflow==2.4.1) (0.2.0)\n",
            "Requirement already satisfied: termcolor~=1.1.0 in /usr/local/lib/python3.7/dist-packages (from tensorflow==2.4.1) (1.1.0)\n",
            "Requirement already satisfied: wrapt~=1.12.1 in /usr/local/lib/python3.7/dist-packages (from tensorflow==2.4.1) (1.12.1)\n",
            "Requirement already satisfied: typing-extensions~=3.7.4 in /usr/local/lib/python3.7/dist-packages (from tensorflow==2.4.1) (3.7.4.3)\n",
            "Requirement already satisfied: keras-preprocessing~=1.1.2 in /usr/local/lib/python3.7/dist-packages (from tensorflow==2.4.1) (1.1.2)\n",
            "Requirement already satisfied: flatbuffers~=1.12.0 in /usr/local/lib/python3.7/dist-packages (from tensorflow==2.4.1) (1.12)\n",
            "Requirement already satisfied: opt-einsum~=3.3.0 in /usr/local/lib/python3.7/dist-packages (from tensorflow==2.4.1) (3.3.0)\n",
            "Requirement already satisfied: tensorflow-estimator<2.5.0,>=2.4.0 in /usr/local/lib/python3.7/dist-packages (from tensorflow==2.4.1) (2.4.0)\n",
            "Requirement already satisfied: gast==0.3.3 in /usr/local/lib/python3.7/dist-packages (from tensorflow==2.4.1) (0.3.3)\n",
            "Requirement already satisfied: h5py~=2.10.0 in /usr/local/lib/python3.7/dist-packages (from tensorflow==2.4.1) (2.10.0)\n",
            "Requirement already satisfied: astunparse~=1.6.3 in /usr/local/lib/python3.7/dist-packages (from tensorflow==2.4.1) (1.6.3)\n",
            "Requirement already satisfied: numpy~=1.19.2 in /usr/local/lib/python3.7/dist-packages (from tensorflow==2.4.1) (1.19.5)\n",
            "Requirement already satisfied: protobuf>=3.9.2 in /usr/local/lib/python3.7/dist-packages (from tensorflow==2.4.1) (3.17.3)\n",
            "Requirement already satisfied: six~=1.15.0 in /usr/local/lib/python3.7/dist-packages (from tensorflow==2.4.1) (1.15.0)\n",
            "Requirement already satisfied: grpcio~=1.32.0 in /usr/local/lib/python3.7/dist-packages (from tensorflow==2.4.1) (1.32.0)\n",
            "Requirement already satisfied: wheel~=0.35 in /usr/local/lib/python3.7/dist-packages (from tensorflow==2.4.1) (0.37.0)\n",
            "Requirement already satisfied: tensorboard~=2.4 in /usr/local/lib/python3.7/dist-packages (from tensorflow==2.4.1) (2.6.0)\n",
            "Requirement already satisfied: absl-py~=0.10 in /usr/local/lib/python3.7/dist-packages (from tensorflow==2.4.1) (0.12.0)\n",
            "Requirement already satisfied: markdown>=2.6.8 in /usr/local/lib/python3.7/dist-packages (from tensorboard~=2.4->tensorflow==2.4.1) (3.3.4)\n",
            "Requirement already satisfied: google-auth-oauthlib<0.5,>=0.4.1 in /usr/local/lib/python3.7/dist-packages (from tensorboard~=2.4->tensorflow==2.4.1) (0.4.6)\n",
            "Requirement already satisfied: tensorboard-plugin-wit>=1.6.0 in /usr/local/lib/python3.7/dist-packages (from tensorboard~=2.4->tensorflow==2.4.1) (1.8.0)\n",
            "Requirement already satisfied: requests<3,>=2.21.0 in /usr/local/lib/python3.7/dist-packages (from tensorboard~=2.4->tensorflow==2.4.1) (2.23.0)\n",
            "Requirement already satisfied: setuptools>=41.0.0 in /usr/local/lib/python3.7/dist-packages (from tensorboard~=2.4->tensorflow==2.4.1) (57.4.0)\n",
            "Requirement already satisfied: werkzeug>=0.11.15 in /usr/local/lib/python3.7/dist-packages (from tensorboard~=2.4->tensorflow==2.4.1) (1.0.1)\n",
            "Requirement already satisfied: google-auth<2,>=1.6.3 in /usr/local/lib/python3.7/dist-packages (from tensorboard~=2.4->tensorflow==2.4.1) (1.35.0)\n",
            "Requirement already satisfied: tensorboard-data-server<0.7.0,>=0.6.0 in /usr/local/lib/python3.7/dist-packages (from tensorboard~=2.4->tensorflow==2.4.1) (0.6.1)\n",
            "Requirement already satisfied: rsa<5,>=3.1.4 in /usr/local/lib/python3.7/dist-packages (from google-auth<2,>=1.6.3->tensorboard~=2.4->tensorflow==2.4.1) (4.7.2)\n",
            "Requirement already satisfied: cachetools<5.0,>=2.0.0 in /usr/local/lib/python3.7/dist-packages (from google-auth<2,>=1.6.3->tensorboard~=2.4->tensorflow==2.4.1) (4.2.4)\n",
            "Requirement already satisfied: pyasn1-modules>=0.2.1 in /usr/local/lib/python3.7/dist-packages (from google-auth<2,>=1.6.3->tensorboard~=2.4->tensorflow==2.4.1) (0.2.8)\n",
            "Requirement already satisfied: requests-oauthlib>=0.7.0 in /usr/local/lib/python3.7/dist-packages (from google-auth-oauthlib<0.5,>=0.4.1->tensorboard~=2.4->tensorflow==2.4.1) (1.3.0)\n",
            "Requirement already satisfied: importlib-metadata in /usr/local/lib/python3.7/dist-packages (from markdown>=2.6.8->tensorboard~=2.4->tensorflow==2.4.1) (4.8.1)\n",
            "Requirement already satisfied: pyasn1<0.5.0,>=0.4.6 in /usr/local/lib/python3.7/dist-packages (from pyasn1-modules>=0.2.1->google-auth<2,>=1.6.3->tensorboard~=2.4->tensorflow==2.4.1) (0.4.8)\n",
            "Requirement already satisfied: idna<3,>=2.5 in /usr/local/lib/python3.7/dist-packages (from requests<3,>=2.21.0->tensorboard~=2.4->tensorflow==2.4.1) (2.10)\n",
            "Requirement already satisfied: certifi>=2017.4.17 in /usr/local/lib/python3.7/dist-packages (from requests<3,>=2.21.0->tensorboard~=2.4->tensorflow==2.4.1) (2021.5.30)\n",
            "Requirement already satisfied: urllib3!=1.25.0,!=1.25.1,<1.26,>=1.21.1 in /usr/local/lib/python3.7/dist-packages (from requests<3,>=2.21.0->tensorboard~=2.4->tensorflow==2.4.1) (1.24.3)\n",
            "Requirement already satisfied: chardet<4,>=3.0.2 in /usr/local/lib/python3.7/dist-packages (from requests<3,>=2.21.0->tensorboard~=2.4->tensorflow==2.4.1) (3.0.4)\n",
            "Requirement already satisfied: oauthlib>=3.0.0 in /usr/local/lib/python3.7/dist-packages (from requests-oauthlib>=0.7.0->google-auth-oauthlib<0.5,>=0.4.1->tensorboard~=2.4->tensorflow==2.4.1) (3.1.1)\n",
            "Requirement already satisfied: zipp>=0.5 in /usr/local/lib/python3.7/dist-packages (from importlib-metadata->markdown>=2.6.8->tensorboard~=2.4->tensorflow==2.4.1) (3.6.0)\n"
          ]
        }
      ]
    },
    {
      "cell_type": "code",
      "metadata": {
        "colab": {
          "base_uri": "https://localhost:8080/"
        },
        "id": "jjf9J9uq5Spg",
        "outputId": "70b5e0a6-fd4a-4a81-df9c-8f8ef2a0d0b7"
      },
      "source": [
        "#################\n",
        "### Libraries ###\n",
        "#################\n",
        "import nltk\n",
        "nltk.download('stopwords')\n",
        "\n",
        "import numpy as np\n",
        "import pandas as pd\n",
        "import os\n",
        "import re\n",
        "import matplotlib.pyplot as plt\n",
        "from nltk.corpus import stopwords\n",
        "from bs4 import BeautifulSoup \n",
        "from tensorflow.keras.preprocessing.text import Tokenizer \n",
        "from tensorflow.keras.preprocessing.sequence import pad_sequences\n",
        "import urllib.request"
      ],
      "execution_count": 2,
      "outputs": [
        {
          "output_type": "stream",
          "name": "stdout",
          "text": [
            "[nltk_data] Downloading package stopwords to /root/nltk_data...\n",
            "[nltk_data]   Package stopwords is already up-to-date!\n"
          ]
        }
      ]
    },
    {
      "cell_type": "markdown",
      "metadata": {
        "id": "z3IstKbG4Hhg"
      },
      "source": [
        "Step 1. 데이터 수집하기\n",
        "---\n",
        "\n",
        "- [sunnysai12345/News_Summary](https://github.com/sunnysai12345/News_Summary)   "
      ]
    },
    {
      "cell_type": "code",
      "metadata": {
        "id": "0mn5Nq0_4nbK"
      },
      "source": [
        "import urllib.request\n",
        "urllib.request.urlretrieve(\"https://raw.githubusercontent.com/sunnysai12345/News_Summary/master/news_summary_more.csv\", filename=\"news_summary_more.csv\")\n",
        "data = pd.read_csv('news_summary_more.csv', encoding='iso-8859-1')"
      ],
      "execution_count": 3,
      "outputs": []
    },
    {
      "cell_type": "code",
      "metadata": {
        "colab": {
          "base_uri": "https://localhost:8080/",
          "height": 377
        },
        "id": "1AOVkpPE4tCh",
        "outputId": "d688dbe4-4852-40ed-88e4-538c2e4fa1d1"
      },
      "source": [
        "print('전체 샘플수 :', (len(data)))\n",
        "data.sample(10) # 기사의 본문에 해당되는 text와 headlines 두 가지 열로 구성"
      ],
      "execution_count": 4,
      "outputs": [
        {
          "output_type": "stream",
          "name": "stdout",
          "text": [
            "전체 샘플수 : 98401\n"
          ]
        },
        {
          "output_type": "execute_result",
          "data": {
            "text/html": [
              "<div>\n",
              "<style scoped>\n",
              "    .dataframe tbody tr th:only-of-type {\n",
              "        vertical-align: middle;\n",
              "    }\n",
              "\n",
              "    .dataframe tbody tr th {\n",
              "        vertical-align: top;\n",
              "    }\n",
              "\n",
              "    .dataframe thead th {\n",
              "        text-align: right;\n",
              "    }\n",
              "</style>\n",
              "<table border=\"1\" class=\"dataframe\">\n",
              "  <thead>\n",
              "    <tr style=\"text-align: right;\">\n",
              "      <th></th>\n",
              "      <th>headlines</th>\n",
              "      <th>text</th>\n",
              "    </tr>\n",
              "  </thead>\n",
              "  <tbody>\n",
              "    <tr>\n",
              "      <th>4737</th>\n",
              "      <td>I don't need to carry banner for people to kno...</td>\n",
              "      <td>Talking about his perceived image, Team India ...</td>\n",
              "    </tr>\n",
              "    <tr>\n",
              "      <th>92589</th>\n",
              "      <td>Delhi once had a system of trams</td>\n",
              "      <td>A trams transport system was introduced in Del...</td>\n",
              "    </tr>\n",
              "    <tr>\n",
              "      <th>6141</th>\n",
              "      <td>Nigeria suspends UNICEF over alleged spying; l...</td>\n",
              "      <td>The Nigerian military has revoked its earlier ...</td>\n",
              "    </tr>\n",
              "    <tr>\n",
              "      <th>90559</th>\n",
              "      <td>1,500 AIIMS doctors to learn taekwondo for saf...</td>\n",
              "      <td>Amid rising cases of violence against doctors,...</td>\n",
              "    </tr>\n",
              "    <tr>\n",
              "      <th>95844</th>\n",
              "      <td>Deadline for Indians to deposit old notes ends...</td>\n",
              "      <td>The deadline to deposit and exchange demonetis...</td>\n",
              "    </tr>\n",
              "    <tr>\n",
              "      <th>11673</th>\n",
              "      <td>Don't need to announce who I'm dating: Shibani...</td>\n",
              "      <td>Shibani Dandekar, while speaking about the spe...</td>\n",
              "    </tr>\n",
              "    <tr>\n",
              "      <th>86729</th>\n",
              "      <td>Jim Carrey to face trial over death of ex-girl...</td>\n",
              "      <td>Actor Jim Carrey will be facing trial over the...</td>\n",
              "    </tr>\n",
              "    <tr>\n",
              "      <th>53888</th>\n",
              "      <td>Pakistan test-fires indigenously-built naval c...</td>\n",
              "      <td>Pakistan's Navy on Wednesday successfully test...</td>\n",
              "    </tr>\n",
              "    <tr>\n",
              "      <th>6545</th>\n",
              "      <td>Great Learning helps you transition to a caree...</td>\n",
              "      <td>Participants from Great Learning's first batch...</td>\n",
              "    </tr>\n",
              "    <tr>\n",
              "      <th>58686</th>\n",
              "      <td>Honeypreet planned to escape, settle abroad wi...</td>\n",
              "      <td>Rape convict Gurmeet Ram Rahim's adopted daugh...</td>\n",
              "    </tr>\n",
              "  </tbody>\n",
              "</table>\n",
              "</div>"
            ],
            "text/plain": [
              "                                               headlines                                               text\n",
              "4737   I don't need to carry banner for people to kno...  Talking about his perceived image, Team India ...\n",
              "92589                  Delhi once had a system of trams   A trams transport system was introduced in Del...\n",
              "6141   Nigeria suspends UNICEF over alleged spying; l...  The Nigerian military has revoked its earlier ...\n",
              "90559  1,500 AIIMS doctors to learn taekwondo for saf...  Amid rising cases of violence against doctors,...\n",
              "95844  Deadline for Indians to deposit old notes ends...  The deadline to deposit and exchange demonetis...\n",
              "11673  Don't need to announce who I'm dating: Shibani...  Shibani Dandekar, while speaking about the spe...\n",
              "86729  Jim Carrey to face trial over death of ex-girl...  Actor Jim Carrey will be facing trial over the...\n",
              "53888  Pakistan test-fires indigenously-built naval c...  Pakistan's Navy on Wednesday successfully test...\n",
              "6545   Great Learning helps you transition to a caree...  Participants from Great Learning's first batch...\n",
              "58686  Honeypreet planned to escape, settle abroad wi...  Rape convict Gurmeet Ram Rahim's adopted daugh..."
            ]
          },
          "metadata": {},
          "execution_count": 4
        }
      ]
    },
    {
      "cell_type": "markdown",
      "metadata": {
        "id": "eZuuzeiw51x2"
      },
      "source": [
        "! 추상적 요약을 하는 경우에는 text를 본문, headlines를 이미 요약된 데이터로 삼아서 모델을 학습 가능    \n",
        "! 추출적 요약을 하는 경우에는 오직 text열만을 사용할 것    \n",
        "\n",
        "Step 2. 데이터 전처리하기 (추상적 요약)\n",
        "---\n",
        "데이터 전처리를 통해 텍스트를 정규화 또는 정제    \n",
        "만약, 불용어 제거를 선택한다면 상대적으로 길이가 짧은 요약 데이터에 대해서도 불용어를 제거하는 것이 좋을까?"
      ]
    },
    {
      "cell_type": "code",
      "metadata": {
        "colab": {
          "base_uri": "https://localhost:8080/"
        },
        "id": "ZG-0xqBo5a4e",
        "outputId": "48bce7a1-0d77-481f-eb7d-2028808d42ce"
      },
      "source": [
        "####################################\n",
        "### Check duplicate/null samples ###\n",
        "####################################\n",
        "print('text 열에서 중복을 배제한 유일한 샘플의 수 :', data['text'].nunique())\n",
        "print('headlines 열에서 중복을 배제한 유일한 샘플의 수 :', data['headlines'].nunique())\n",
        "\n",
        "print('-----------------------------------------------------------------------')\n",
        "\n",
        "# inplace=True 를 설정하면 DataFrame 타입 값을 return 하지 않고 data 내부를 직접적으로 바꿈\n",
        "data.drop_duplicates(subset = ['text'], inplace=True)\n",
        "print('전체 샘플수 :', (len(data)))\n",
        "\n",
        "print('-----------------------------------------------------------------------')\n",
        "\n",
        "print(data.isnull().sum()) # null 값이 1개 남아 있다면 아래 dropna 사용\n",
        "# data.dropna(axis=0, inplace=True)\n",
        "# print('전체 샘플수 :', (len(data)))"
      ],
      "execution_count": 5,
      "outputs": [
        {
          "output_type": "stream",
          "name": "stdout",
          "text": [
            "text 열에서 중복을 배제한 유일한 샘플의 수 : 98360\n",
            "headlines 열에서 중복을 배제한 유일한 샘플의 수 : 98280\n",
            "-----------------------------------------------------------------------\n",
            "전체 샘플수 : 98360\n",
            "-----------------------------------------------------------------------\n",
            "headlines    0\n",
            "text         0\n",
            "dtype: int64\n"
          ]
        }
      ]
    },
    {
      "cell_type": "code",
      "metadata": {
        "colab": {
          "base_uri": "https://localhost:8080/"
        },
        "id": "5Vy0fYZ77TuR",
        "outputId": "ab2dc108-f2cc-40b0-c398-2a868c4de91f"
      },
      "source": [
        "#############################################\n",
        "### Text normalizetion & remove stopwords ###\n",
        "#############################################\n",
        "contractions = {\"ain't\": \"is not\", \"aren't\": \"are not\",\"can't\": \"cannot\", \"'cause\": \"because\", \"could've\": \"could have\", \"couldn't\": \"could not\",\n",
        "                           \"didn't\": \"did not\",  \"doesn't\": \"does not\", \"don't\": \"do not\", \"hadn't\": \"had not\", \"hasn't\": \"has not\", \"haven't\": \"have not\",\n",
        "                           \"he'd\": \"he would\",\"he'll\": \"he will\", \"he's\": \"he is\", \"how'd\": \"how did\", \"how'd'y\": \"how do you\", \"how'll\": \"how will\", \"how's\": \"how is\",\n",
        "                           \"I'd\": \"I would\", \"I'd've\": \"I would have\", \"I'll\": \"I will\", \"I'll've\": \"I will have\",\"I'm\": \"I am\", \"I've\": \"I have\", \"i'd\": \"i would\",\n",
        "                           \"i'd've\": \"i would have\", \"i'll\": \"i will\",  \"i'll've\": \"i will have\",\"i'm\": \"i am\", \"i've\": \"i have\", \"isn't\": \"is not\", \"it'd\": \"it would\",\n",
        "                           \"it'd've\": \"it would have\", \"it'll\": \"it will\", \"it'll've\": \"it will have\",\"it's\": \"it is\", \"let's\": \"let us\", \"ma'am\": \"madam\",\n",
        "                           \"mayn't\": \"may not\", \"might've\": \"might have\",\"mightn't\": \"might not\",\"mightn't've\": \"might not have\", \"must've\": \"must have\",\n",
        "                           \"mustn't\": \"must not\", \"mustn't've\": \"must not have\", \"needn't\": \"need not\", \"needn't've\": \"need not have\",\"o'clock\": \"of the clock\",\n",
        "                           \"oughtn't\": \"ought not\", \"oughtn't've\": \"ought not have\", \"shan't\": \"shall not\", \"sha'n't\": \"shall not\", \"shan't've\": \"shall not have\",\n",
        "                           \"she'd\": \"she would\", \"she'd've\": \"she would have\", \"she'll\": \"she will\", \"she'll've\": \"she will have\", \"she's\": \"she is\",\n",
        "                           \"should've\": \"should have\", \"shouldn't\": \"should not\", \"shouldn't've\": \"should not have\", \"so've\": \"so have\",\"so's\": \"so as\",\n",
        "                           \"this's\": \"this is\",\"that'd\": \"that would\", \"that'd've\": \"that would have\", \"that's\": \"that is\", \"there'd\": \"there would\",\n",
        "                           \"there'd've\": \"there would have\", \"there's\": \"there is\", \"here's\": \"here is\",\"they'd\": \"they would\", \"they'd've\": \"they would have\",\n",
        "                           \"they'll\": \"they will\", \"they'll've\": \"they will have\", \"they're\": \"they are\", \"they've\": \"they have\", \"to've\": \"to have\",\n",
        "                           \"wasn't\": \"was not\", \"we'd\": \"we would\", \"we'd've\": \"we would have\", \"we'll\": \"we will\", \"we'll've\": \"we will have\", \"we're\": \"we are\",\n",
        "                           \"we've\": \"we have\", \"weren't\": \"were not\", \"what'll\": \"what will\", \"what'll've\": \"what will have\", \"what're\": \"what are\",\n",
        "                           \"what's\": \"what is\", \"what've\": \"what have\", \"when's\": \"when is\", \"when've\": \"when have\", \"where'd\": \"where did\", \"where's\": \"where is\",\n",
        "                           \"where've\": \"where have\", \"who'll\": \"who will\", \"who'll've\": \"who will have\", \"who's\": \"who is\", \"who've\": \"who have\",\n",
        "                           \"why's\": \"why is\", \"why've\": \"why have\", \"will've\": \"will have\", \"won't\": \"will not\", \"won't've\": \"will not have\",\n",
        "                           \"would've\": \"would have\", \"wouldn't\": \"would not\", \"wouldn't've\": \"would not have\", \"y'all\": \"you all\",\n",
        "                           \"y'all'd\": \"you all would\",\"y'all'd've\": \"you all would have\",\"y'all're\": \"you all are\",\"y'all've\": \"you all have\",\n",
        "                           \"you'd\": \"you would\", \"you'd've\": \"you would have\", \"you'll\": \"you will\", \"you'll've\": \"you will have\",\n",
        "                           \"you're\": \"you are\", \"you've\": \"you have\"}\n",
        "\n",
        "print(\"정규화 사전의 수: \", len(contractions))\n",
        "\n",
        "print('-----------------------------------------------------------------------')\n",
        "\n",
        "print('불용어 개수 :', len(stopwords.words('english') ))\n",
        "print(stopwords.words('english'))"
      ],
      "execution_count": 6,
      "outputs": [
        {
          "output_type": "stream",
          "name": "stdout",
          "text": [
            "정규화 사전의 수:  120\n",
            "-----------------------------------------------------------------------\n",
            "불용어 개수 : 179\n",
            "['i', 'me', 'my', 'myself', 'we', 'our', 'ours', 'ourselves', 'you', \"you're\", \"you've\", \"you'll\", \"you'd\", 'your', 'yours', 'yourself', 'yourselves', 'he', 'him', 'his', 'himself', 'she', \"she's\", 'her', 'hers', 'herself', 'it', \"it's\", 'its', 'itself', 'they', 'them', 'their', 'theirs', 'themselves', 'what', 'which', 'who', 'whom', 'this', 'that', \"that'll\", 'these', 'those', 'am', 'is', 'are', 'was', 'were', 'be', 'been', 'being', 'have', 'has', 'had', 'having', 'do', 'does', 'did', 'doing', 'a', 'an', 'the', 'and', 'but', 'if', 'or', 'because', 'as', 'until', 'while', 'of', 'at', 'by', 'for', 'with', 'about', 'against', 'between', 'into', 'through', 'during', 'before', 'after', 'above', 'below', 'to', 'from', 'up', 'down', 'in', 'out', 'on', 'off', 'over', 'under', 'again', 'further', 'then', 'once', 'here', 'there', 'when', 'where', 'why', 'how', 'all', 'any', 'both', 'each', 'few', 'more', 'most', 'other', 'some', 'such', 'no', 'nor', 'not', 'only', 'own', 'same', 'so', 'than', 'too', 'very', 's', 't', 'can', 'will', 'just', 'don', \"don't\", 'should', \"should've\", 'now', 'd', 'll', 'm', 'o', 're', 've', 'y', 'ain', 'aren', \"aren't\", 'couldn', \"couldn't\", 'didn', \"didn't\", 'doesn', \"doesn't\", 'hadn', \"hadn't\", 'hasn', \"hasn't\", 'haven', \"haven't\", 'isn', \"isn't\", 'ma', 'mightn', \"mightn't\", 'mustn', \"mustn't\", 'needn', \"needn't\", 'shan', \"shan't\", 'shouldn', \"shouldn't\", 'wasn', \"wasn't\", 'weren', \"weren't\", 'won', \"won't\", 'wouldn', \"wouldn't\"]\n"
          ]
        }
      ]
    },
    {
      "cell_type": "code",
      "metadata": {
        "colab": {
          "base_uri": "https://localhost:8080/"
        },
        "id": "QD2atN7r8OR6",
        "outputId": "389ccf4c-d9e8-4b0d-f884-fa1a23365330"
      },
      "source": [
        "###########################\n",
        "### Data pre-processing ###\n",
        "###########################\n",
        "def preprocess_sentence(sentence, remove_stopwords=True):\n",
        "    sentence = sentence.lower() # 텍스트 소문자화\n",
        "    sentence = BeautifulSoup(sentence, \"lxml\").text # <br />, <a href = ...> 등의 html 태그 제거\n",
        "    sentence = re.sub(r'\\([^)]*\\)', '', sentence) # 괄호로 닫힌 문자열 (...) 제거 Ex) my husband (and myself!) for => my husband for\n",
        "    sentence = re.sub('\"','', sentence) # 쌍따옴표 \" 제거\n",
        "    sentence = ' '.join([contractions[t] if t in contractions else t for t in sentence.split(\" \")]) # 약어 정규화\n",
        "    sentence = re.sub(r\"'s\\b\",\"\", sentence) # 소유격 제거. Ex) roland's -> roland\n",
        "    sentence = re.sub(\"[^a-zA-Z]\", \" \", sentence) # 영어 외 문자(숫자, 특수문자 등) 공백으로 변환\n",
        "    sentence = re.sub('[m]{2,}', 'mm', sentence) # m이 3개 이상이면 2개로 변경. Ex) ummmmmmm yeah -> umm yeah\n",
        "    \n",
        "    # 불용어 제거 (Text)\n",
        "    if remove_stopwords:\n",
        "        tokens = ' '.join(word for word in sentence.split() if not word in stopwords.words('english') if len(word) > 1)\n",
        "    # 불용어 미제거 (Summary)\n",
        "    else:\n",
        "        tokens = ' '.join(word for word in sentence.split() if len(word) > 1)\n",
        "    return tokens\n",
        "\n",
        "print('-----------------------------------------------------------------------')\n",
        "\n",
        "# 전처리 전, 후의 결과를 확인하기 위해서 임의의 text와 summary를 만들어 함수를 호출\n",
        "temp_text = 'Everything I bought was great, infact I ordered twice and the third ordered was<br />for my mother and father.'\n",
        "temp_summary = 'Great way to start (or finish) the day!!!'\n",
        "\n",
        "print(preprocess_sentence(temp_text))\n",
        "print(preprocess_sentence(temp_summary, False))  # 불용어를 제거하지 않습니다."
      ],
      "execution_count": 7,
      "outputs": [
        {
          "output_type": "stream",
          "name": "stdout",
          "text": [
            "-----------------------------------------------------------------------\n",
            "everything bought great infact ordered twice third ordered wasfor mother father\n",
            "great way to start the day\n"
          ]
        }
      ]
    },
    {
      "cell_type": "code",
      "metadata": {
        "colab": {
          "base_uri": "https://localhost:8080/"
        },
        "id": "4VGyjVF69J4U",
        "outputId": "edf01c20-0d35-4ef3-c6d3-7ae6f091d10f"
      },
      "source": [
        "#######################\n",
        "### Multiprocessing ###\n",
        "#######################\n",
        "import multiprocessing as mp   # 멀티 프로세싱으로 전처리 속도를 획기적으로 줄여봅시다\n",
        "from multiprocessing import Pool\n",
        "import numpy as np\n",
        "import time\n",
        "from functools import partial  # map을 할 때 함수에 여러 인자를 넣어줄 수 있도록 합니다\n",
        "\n",
        "start = time.time()\n",
        "\n",
        "# num_cores 만큼 쪼개진 데이터를 전처리하여 반환합니다\n",
        "def appendTexts(sentences, remove_stopwords):\n",
        "  texts = []\n",
        "  for s in sentences:\n",
        "    texts += preprocess_sentence(s, remove_stopwords),\n",
        "  return texts\n",
        "\n",
        "def preprocess_data(data, remove_stopwords=True):\n",
        "  start_time = time.time()\n",
        "  num_cores = mp.cpu_count()  # 컴퓨터의 코어 수를 구합니다\n",
        "\n",
        "  text_data_split = np.array_split(data, num_cores)  # 코어 수만큼 데이터를 배분하여 병렬적으로 처리할 수 있게 합니다\n",
        "  pool = Pool(num_cores)\n",
        "\n",
        "  processed_data = np.concatenate(pool.map(partial(appendTexts, remove_stopwords=remove_stopwords), text_data_split))  # 각자 작업한 데이터를 하나로 합쳐줍니다\n",
        "  pool.close()\n",
        "  pool.join()\n",
        "  print(time.time() - start_time, \" seconds\")\n",
        "  return processed_data\n",
        "\n",
        "clean_text = preprocess_data(data['text'])  # 클라우드 기준으로 3~4분 정도 소요 됩니다\n",
        "print(clean_text)\n",
        "\n",
        "clean_summary = preprocess_data(data['headlines'], remove_stopwords=False) # 클라우드 기준 1분정도 소요됩니다.\n",
        "print(clean_summary)"
      ],
      "execution_count": 8,
      "outputs": [
        {
          "output_type": "stream",
          "name": "stdout",
          "text": [
            "278.14128494262695  seconds\n",
            "['saurav kant alumnus upgrad iiit pg program machine learning artificial intelligence sr systems engineer infosys almost years work experience program upgrad degree career support helped transition data scientist tech mahindra salary hike upgrad online power learning powered lakh careers'\n",
            " 'kunal shah credit card bill payment platform cred gave users chance win free food swiggy one year pranav kaushik delhi techie bagged reward spending cred coins users get one cred coin per rupee bill paid used avail rewards brands like ixigo bookmyshow ubereats cult fit'\n",
            " 'new zealand defeated india wickets fourth odi hamilton thursday win first match five match odi series india lost international match rohit sharma captaincy consecutive victories dating back march match witnessed india getting seventh lowest total odi cricket history'\n",
            " ...\n",
            " 'according reports new version science fiction film matrix development michael jordan reportedly play lead role film screenwriter zak penn talks write script film reports added actor keanu reeves starred original film followed two sequels'\n",
            " 'new music video shows rapper snoop dogg aiming toy gun clown character parodying us president donald trump video also shows tv airing news conference headline ronald klump wants deport doggs airing live clown house video remixed version song lavender'\n",
            " 'madhesi morcha alliance seven political parties withdrawn support pm pushpa kamal dahal led nepal government failed meet seven day ultimatum fulfil demands including endorsement revised constitution amendment bill morcha seats parliament despite withdrawal support immediate threat government']\n",
            "7.585739850997925  seconds\n",
            "['upgrad learner switches to career in ml al with salary hike'\n",
            " 'delhi techie wins free food from swiggy for one year on cred'\n",
            " 'new zealand end rohit sharma led india match winning streak' ...\n",
            " 'the matrix film to get reboot reports'\n",
            " 'snoop dogg aims gun at clown dressed as trump in new video'\n",
            " 'madhesi morcha withdraws support to nepalese government']\n"
          ]
        }
      ]
    },
    {
      "cell_type": "code",
      "metadata": {
        "colab": {
          "base_uri": "https://localhost:8080/"
        },
        "id": "yQ7PpauH9iIx",
        "outputId": "3638b6a9-4f57-4f03-bf3b-4cff568cdd61"
      },
      "source": [
        "data['text'] = clean_text\n",
        "data['headlines'] = clean_summary\n",
        "\n",
        "# 빈 값을 Null 값으로 변환\n",
        "print(data.replace('', np.nan, inplace=True))\n",
        "\n",
        "print('-----------------------------------------------------------------------')\n",
        "\n",
        "# 이전과 같이 .isnull().sum()을 사용해서 Null 값이 생겼는지 확인\n",
        "print(data.isnull().sum())\n",
        "\n",
        "print('-----------------------------------------------------------------------')\n",
        "\n",
        "data.dropna(axis=0, inplace=True)\n",
        "print('전체 샘플수 :', (len(data)))"
      ],
      "execution_count": 9,
      "outputs": [
        {
          "output_type": "stream",
          "name": "stdout",
          "text": [
            "None\n",
            "-----------------------------------------------------------------------\n",
            "headlines    0\n",
            "text         0\n",
            "dtype: int64\n",
            "-----------------------------------------------------------------------\n",
            "전체 샘플수 : 98360\n"
          ]
        }
      ]
    },
    {
      "cell_type": "code",
      "metadata": {
        "colab": {
          "base_uri": "https://localhost:8080/",
          "height": 961
        },
        "id": "ndOe-kAF97qK",
        "outputId": "8bf3bc88-f76a-4e78-b638-ea19b10dd5bb"
      },
      "source": [
        "#################################\n",
        "### Check length distribution ###\n",
        "#################################\n",
        "import matplotlib.pyplot as plt\n",
        "\n",
        "text_len = [len(s.split()) for s in data['text']]\n",
        "summary_len = [len(s.split()) for s in data['headlines']]\n",
        "\n",
        "print('텍스트의 최소 길이 : {}'.format(np.min(text_len)))\n",
        "print('텍스트의 최대 길이 : {}'.format(np.max(text_len)))\n",
        "print('텍스트의 평균 길이 : {}'.format(np.mean(text_len)))\n",
        "print('요약의 최소 길이 : {}'.format(np.min(summary_len)))\n",
        "print('요약의 최대 길이 : {}'.format(np.max(summary_len)))\n",
        "print('요약의 평균 길이 : {}'.format(np.mean(summary_len)))\n",
        "\n",
        "plt.subplot(1,2,1)\n",
        "plt.boxplot(summary_len)\n",
        "plt.title('headlines')\n",
        "plt.subplot(1,2,2)\n",
        "plt.boxplot(text_len)\n",
        "plt.title('text')\n",
        "plt.tight_layout()\n",
        "plt.show()\n",
        "\n",
        "plt.title('headlines')\n",
        "plt.hist(summary_len, bins = 40)\n",
        "plt.xlabel('length of samples')\n",
        "plt.ylabel('number of samples')\n",
        "plt.show()\n",
        "\n",
        "plt.title('text')\n",
        "plt.hist(text_len, bins = 40)\n",
        "plt.xlabel('length of samples')\n",
        "plt.ylabel('number of samples')\n",
        "plt.show()"
      ],
      "execution_count": 10,
      "outputs": [
        {
          "output_type": "stream",
          "name": "stdout",
          "text": [
            "텍스트의 최소 길이 : 1\n",
            "텍스트의 최대 길이 : 60\n",
            "텍스트의 평균 길이 : 35.09968483123221\n",
            "요약의 최소 길이 : 1\n",
            "요약의 최대 길이 : 16\n",
            "요약의 평균 길이 : 9.299532330215534\n"
          ]
        },
        {
          "output_type": "display_data",
          "data": {
            "image/png": "[encoded data removed]",
            "text/plain": [
              "<Figure size 432x288 with 2 Axes>"
            ]
          },
          "metadata": {
            "needs_background": "light"
          }
        },
        {
          "output_type": "display_data",
          "data": {
            "image/png": "[encoded data removed]",
            "text/plain": [
              "<Figure size 432x288 with 1 Axes>"
            ]
          },
          "metadata": {
            "needs_background": "light"
          }
        },
        {
          "output_type": "display_data",
          "data": {
            "image/png": "[encoded data removed]",
            "text/plain": [
              "<Figure size 432x288 with 1 Axes>"
            ]
          },
          "metadata": {
            "needs_background": "light"
          }
        }
      ]
    },
    {
      "cell_type": "code",
      "metadata": {
        "colab": {
          "base_uri": "https://localhost:8080/"
        },
        "id": "83CgSpb8-WFy",
        "outputId": "e0acdeed-b076-44aa-e9dc-890d4cfba11e"
      },
      "source": [
        "text_max_len = 50\n",
        "summary_max_len = 8\n",
        "\n",
        "def below_threshold_len(max_len, nested_list):\n",
        "    cnt = 0\n",
        "    for s in nested_list:\n",
        "        if(len(s.split()) <= max_len):\n",
        "            cnt = cnt + 1\n",
        "    print('전체 샘플 중 길이가 %s 이하인 샘플의 비율: %s'%(max_len, (cnt / len(nested_list))))\n",
        "\n",
        "# 이렇게 만든 함수를 Text와 Summary에 적용해 우리가 결정한 임의의 길이가 몇%의 샘플까지 포함하는지 확인\n",
        "below_threshold_len(text_max_len, data['text'])\n",
        "below_threshold_len(summary_max_len,  data['headlines'])\n",
        "\n",
        "print('-----------------------------------------------------------------------')\n",
        "\n",
        "data = data[data['text'].apply(lambda x: len(x.split()) <= text_max_len)]\n",
        "data = data[data['headlines'].apply(lambda x: len(x.split()) <= summary_max_len)]\n",
        "print('전체 샘플수 :', (len(data)))"
      ],
      "execution_count": 11,
      "outputs": [
        {
          "output_type": "stream",
          "name": "stdout",
          "text": [
            "전체 샘플 중 길이가 50 이하인 샘플의 비율: 0.9998576657177715\n",
            "전체 샘플 중 길이가 8 이하인 샘플의 비율: 0.2755693371289142\n",
            "-----------------------------------------------------------------------\n",
            "전체 샘플수 : 27105\n"
          ]
        }
      ]
    },
    {
      "cell_type": "code",
      "metadata": {
        "colab": {
          "base_uri": "https://localhost:8080/",
          "height": 204
        },
        "id": "W9CjgO6fBQqs",
        "outputId": "34db9543-ea57-4816-81ae-b608b05ade20"
      },
      "source": [
        "################################################\n",
        "### Add start and end tokens to summary data ###\n",
        "################################################\n",
        "data['decoder_input'] = data['headlines'].apply(lambda x : 'sostoken '+ x)\n",
        "data['decoder_target'] = data['headlines'].apply(lambda x : x + ' eostoken')\n",
        "data.head()"
      ],
      "execution_count": 12,
      "outputs": [
        {
          "output_type": "execute_result",
          "data": {
            "text/html": [
              "<div>\n",
              "<style scoped>\n",
              "    .dataframe tbody tr th:only-of-type {\n",
              "        vertical-align: middle;\n",
              "    }\n",
              "\n",
              "    .dataframe tbody tr th {\n",
              "        vertical-align: top;\n",
              "    }\n",
              "\n",
              "    .dataframe thead th {\n",
              "        text-align: right;\n",
              "    }\n",
              "</style>\n",
              "<table border=\"1\" class=\"dataframe\">\n",
              "  <thead>\n",
              "    <tr style=\"text-align: right;\">\n",
              "      <th></th>\n",
              "      <th>headlines</th>\n",
              "      <th>text</th>\n",
              "      <th>decoder_input</th>\n",
              "      <th>decoder_target</th>\n",
              "    </tr>\n",
              "  </thead>\n",
              "  <tbody>\n",
              "    <tr>\n",
              "      <th>19</th>\n",
              "      <td>odisha cm patnaik controls mining mafia union ...</td>\n",
              "      <td>union minister dharmendra pradhan wednesday cl...</td>\n",
              "      <td>sostoken odisha cm patnaik controls mining maf...</td>\n",
              "      <td>odisha cm patnaik controls mining mafia union ...</td>\n",
              "    </tr>\n",
              "    <tr>\n",
              "      <th>21</th>\n",
              "      <td>isro unveils bengaluru centre for manned space...</td>\n",
              "      <td>indian space research organisation wednesday u...</td>\n",
              "      <td>sostoken isro unveils bengaluru centre for man...</td>\n",
              "      <td>isro unveils bengaluru centre for manned space...</td>\n",
              "    </tr>\n",
              "    <tr>\n",
              "      <th>22</th>\n",
              "      <td>killed injured in saudi arabia floods</td>\n",
              "      <td>least people killed others injured saudi arabi...</td>\n",
              "      <td>sostoken killed injured in saudi arabia floods</td>\n",
              "      <td>killed injured in saudi arabia floods eostoken</td>\n",
              "    </tr>\n",
              "    <tr>\n",
              "      <th>29</th>\n",
              "      <td>seat cushions from missing plane carrying foot...</td>\n",
              "      <td>investigators searching lost plane carrying ar...</td>\n",
              "      <td>sostoken seat cushions from missing plane carr...</td>\n",
              "      <td>seat cushions from missing plane carrying foot...</td>\n",
              "    </tr>\n",
              "    <tr>\n",
              "      <th>36</th>\n",
              "      <td>agustawestland scam accused rajiv saxena extra...</td>\n",
              "      <td>agustawestland chopper scam co accused rajiv s...</td>\n",
              "      <td>sostoken agustawestland scam accused rajiv sax...</td>\n",
              "      <td>agustawestland scam accused rajiv saxena extra...</td>\n",
              "    </tr>\n",
              "  </tbody>\n",
              "</table>\n",
              "</div>"
            ],
            "text/plain": [
              "                                            headlines  ...                                     decoder_target\n",
              "19  odisha cm patnaik controls mining mafia union ...  ...  odisha cm patnaik controls mining mafia union ...\n",
              "21  isro unveils bengaluru centre for manned space...  ...  isro unveils bengaluru centre for manned space...\n",
              "22              killed injured in saudi arabia floods  ...     killed injured in saudi arabia floods eostoken\n",
              "29  seat cushions from missing plane carrying foot...  ...  seat cushions from missing plane carrying foot...\n",
              "36  agustawestland scam accused rajiv saxena extra...  ...  agustawestland scam accused rajiv saxena extra...\n",
              "\n",
              "[5 rows x 4 columns]"
            ]
          },
          "metadata": {},
          "execution_count": 12
        }
      ]
    },
    {
      "cell_type": "code",
      "metadata": {
        "colab": {
          "base_uri": "https://localhost:8080/"
        },
        "id": "VWoaixsqE2lo",
        "outputId": "987aabe4-65c2-41ce-ec2b-a03f3dd03cc4"
      },
      "source": [
        "######################\n",
        "### Data splitting ###\n",
        "######################\n",
        "# array로 저장\n",
        "encoder_input = np.array(data['text']) # 인코더의 입력\n",
        "decoder_input = np.array(data['decoder_input']) # 디코더의 입력\n",
        "decoder_target = np.array(data['decoder_target']) # 디코더의 레이블\n",
        "\n",
        "indices = np.arange(encoder_input.shape[0])\n",
        "np.random.shuffle(indices)\n",
        "print(indices)\n",
        "\n",
        "# 이 정수 시퀀스를 이용해 다시 데이터의 샘플 순서를 정의해 주면 잘 섞인 샘플이 됨\n",
        "\n",
        "encoder_input = encoder_input[indices]\n",
        "decoder_input = decoder_input[indices]\n",
        "decoder_target = decoder_target[indices]\n",
        "\n",
        "print('-----------------------------------------------------------------------')\n",
        "\n",
        "n_of_val = int(len(encoder_input)*0.2) # 8:2 비율로 train/test 분리\n",
        "print('테스트 데이터의 수 :', n_of_val)\n",
        "\n",
        "print('-----------------------------------------------------------------------')\n",
        "\n",
        "# 이렇게 정의한 테스트 데이터의 개수를 이용해 전체 데이터를 양분할게요. :표시의 위치에 주의!\n",
        "encoder_input_train = encoder_input[:-n_of_val]\n",
        "decoder_input_train = decoder_input[:-n_of_val]\n",
        "decoder_target_train = decoder_target[:-n_of_val]\n",
        "\n",
        "encoder_input_test = encoder_input[-n_of_val:]\n",
        "decoder_input_test = decoder_input[-n_of_val:]\n",
        "decoder_target_test = decoder_target[-n_of_val:]\n",
        "\n",
        "print('훈련 데이터의 개수 :', len(encoder_input_train))\n",
        "print('훈련 레이블의 개수 :', len(decoder_input_train))\n",
        "print('테스트 데이터의 개수 :', len(encoder_input_test))\n",
        "print('테스트 레이블의 개수 :', len(decoder_input_test))\n",
        "# 훈련 데이터와 테스트 데이터가 각각 52,655개와 13,163개로 잘 분리된 것 확인 가능!"
      ],
      "execution_count": 13,
      "outputs": [
        {
          "output_type": "stream",
          "name": "stdout",
          "text": [
            "[19970  4227 23953 ...  3011  5067  1031]\n",
            "-----------------------------------------------------------------------\n",
            "테스트 데이터의 수 : 5421\n",
            "-----------------------------------------------------------------------\n",
            "훈련 데이터의 개수 : 21684\n",
            "훈련 레이블의 개수 : 21684\n",
            "테스트 데이터의 개수 : 5421\n",
            "테스트 레이블의 개수 : 5421\n"
          ]
        }
      ]
    },
    {
      "cell_type": "code",
      "metadata": {
        "colab": {
          "base_uri": "https://localhost:8080/"
        },
        "id": "n3Stnl61Fmhp",
        "outputId": "18279c55-9961-4293-d204-e0394d81a502"
      },
      "source": [
        "#####################################\n",
        "### Vocabulary & Integer encoding ###\n",
        "#####################################\n",
        "src_tokenizer = Tokenizer() # 토크나이저 정의\n",
        "src_tokenizer.fit_on_texts(encoder_input_train) # 입력된 데이터로부터 단어 집합 생성\n",
        "\n",
        "threshold = 7 # 등장 빈도 threshold\n",
        "total_cnt = len(src_tokenizer.word_index) # 단어의 수\n",
        "rare_cnt = 0 # 등장 빈도수가 threshold보다 작은 단어의 개수를 카운트\n",
        "total_freq = 0 # 훈련 데이터의 전체 단어 빈도수 총 합\n",
        "rare_freq = 0 # 등장 빈도수가 threshold보다 작은 단어의 등장 빈도수의 총 합\n",
        "\n",
        "# 단어와 빈도수의 쌍(pair)을 key와 value로 받는다.\n",
        "for key, value in src_tokenizer.word_counts.items():\n",
        "    total_freq = total_freq + value\n",
        "\n",
        "    # 단어의 등장 빈도수가 threshold보다 작으면\n",
        "    if(value < threshold):\n",
        "        rare_cnt = rare_cnt + 1\n",
        "        rare_freq = rare_freq + value\n",
        "\n",
        "print('단어 집합(vocabulary)의 크기 :', total_cnt)\n",
        "print('등장 빈도가 %s번 이하인 희귀 단어의 수: %s'%(threshold - 1, rare_cnt))\n",
        "print('단어 집합에서 희귀 단어를 제외시킬 경우의 단어 집합의 크기 %s'%(total_cnt - rare_cnt))\n",
        "print(\"단어 집합에서 희귀 단어의 비율:\", (rare_cnt / total_cnt)*100)\n",
        "print(\"전체 등장 빈도에서 희귀 단어 등장 빈도 비율:\", (rare_freq / total_freq)*100)\n",
        "\n",
        "print('-----------------------------------------------------------------------')\n",
        "\n",
        "src_vocab = 8000\n",
        "src_tokenizer = Tokenizer(num_words=src_vocab) # 단어 집합의 크기를 8,000으로 제한\n",
        "src_tokenizer.fit_on_texts(encoder_input_train) # 단어 집합 재생성.\n",
        "\n",
        "# 텍스트 시퀀스를 정수 시퀀스로 변환\n",
        "encoder_input_train = src_tokenizer.texts_to_sequences(encoder_input_train) \n",
        "encoder_input_test = src_tokenizer.texts_to_sequences(encoder_input_test)\n",
        "\n",
        "# 잘 진행되었는지 샘플 출력\n",
        "print(encoder_input_train[:3])\n",
        "\n",
        "print('=======================================================================')\n",
        "\n",
        "tar_tokenizer = Tokenizer()\n",
        "tar_tokenizer.fit_on_texts(decoder_input_train)\n",
        "\n",
        "threshold = 6\n",
        "total_cnt = len(tar_tokenizer.word_index) # 단어의 수\n",
        "rare_cnt = 0 # 등장 빈도수가 threshold보다 작은 단어의 개수를 카운트\n",
        "total_freq = 0 # 훈련 데이터의 전체 단어 빈도수 총 합\n",
        "rare_freq = 0 # 등장 빈도수가 threshold보다 작은 단어의 등장 빈도수의 총 합\n",
        "\n",
        "# 단어와 빈도수의 쌍(pair)을 key와 value로 받는다.\n",
        "for key, value in tar_tokenizer.word_counts.items():\n",
        "    total_freq = total_freq + value\n",
        "\n",
        "    # 단어의 등장 빈도수가 threshold보다 작으면\n",
        "    if(value < threshold):\n",
        "        rare_cnt = rare_cnt + 1\n",
        "        rare_freq = rare_freq + value\n",
        "\n",
        "print('단어 집합(vocabulary)의 크기 :', total_cnt)\n",
        "print('등장 빈도가 %s번 이하인 희귀 단어의 수: %s'%(threshold - 1, rare_cnt))\n",
        "print('단어 집합에서 희귀 단어를 제외시킬 경우의 단어 집합의 크기 %s'%(total_cnt - rare_cnt))\n",
        "print(\"단어 집합에서 희귀 단어의 비율:\", (rare_cnt / total_cnt)*100)\n",
        "print(\"전체 등장 빈도에서 희귀 단어 등장 빈도 비율:\", (rare_freq / total_freq)*100)\n",
        "\n",
        "print('-----------------------------------------------------------------------')\n",
        "\n",
        "tar_vocab = 2000\n",
        "tar_tokenizer = Tokenizer(num_words=tar_vocab) \n",
        "tar_tokenizer.fit_on_texts(decoder_input_train)\n",
        "tar_tokenizer.fit_on_texts(decoder_target_train)\n",
        "\n",
        "# 텍스트 시퀀스를 정수 시퀀스로 변환\n",
        "decoder_input_train = tar_tokenizer.texts_to_sequences(decoder_input_train) \n",
        "decoder_target_train = tar_tokenizer.texts_to_sequences(decoder_target_train)\n",
        "decoder_input_test = tar_tokenizer.texts_to_sequences(decoder_input_test)\n",
        "decoder_target_test = tar_tokenizer.texts_to_sequences(decoder_target_test)\n",
        "\n",
        "# 잘 변환되었는지 확인\n",
        "print('input')\n",
        "print('input ',decoder_input_train[:5])\n",
        "print('target')\n",
        "print('decoder ',decoder_target_train[:5])\n",
        "\n",
        "print('=======================================================================')\n",
        "\n",
        "drop_train = [index for index, sentence in enumerate(decoder_input_train) if len(sentence) == 1]\n",
        "drop_test = [index for index, sentence in enumerate(decoder_input_test) if len(sentence) == 1]\n",
        "\n",
        "print('삭제할 훈련 데이터의 개수 :', len(drop_train))\n",
        "print('삭제할 테스트 데이터의 개수 :', len(drop_test))\n",
        "\n",
        "encoder_input_train = np.delete(encoder_input_train, drop_train, axis=0)\n",
        "decoder_input_train = np.delete(decoder_input_train, drop_train, axis=0)\n",
        "decoder_target_train = np.delete(decoder_target_train, drop_train, axis=0)\n",
        "\n",
        "encoder_input_test = np.delete(encoder_input_test, drop_test, axis=0)\n",
        "decoder_input_test = np.delete(decoder_input_test, drop_test, axis=0)\n",
        "decoder_target_test = np.delete(decoder_target_test, drop_test, axis=0)\n",
        "\n",
        "print('훈련 데이터의 개수 :', len(encoder_input_train))\n",
        "print('훈련 레이블의 개수 :', len(decoder_input_train))\n",
        "print('테스트 데이터의 개수 :', len(encoder_input_test))\n",
        "print('테스트 레이블의 개수 :', len(decoder_input_test))\n",
        "# 훈련 데이터와 테스트 데이터 모두 일정량의 샘플들이 제거된 것을 확인 가능"
      ],
      "execution_count": 14,
      "outputs": [
        {
          "output_type": "stream",
          "name": "stdout",
          "text": [
            "단어 집합(vocabulary)의 크기 : 42345\n",
            "등장 빈도가 6번 이하인 희귀 단어의 수: 30612\n",
            "단어 집합에서 희귀 단어를 제외시킬 경우의 단어 집합의 크기 11733\n",
            "단어 집합에서 희귀 단어의 비율: 72.29188806234502\n",
            "전체 등장 빈도에서 희귀 단어 등장 빈도 비율: 8.25683490405434\n",
            "-----------------------------------------------------------------------\n",
            "[[2251, 1195, 1222, 6475, 23, 583, 624, 679, 1078, 2, 2, 10, 326, 347, 23, 440, 4, 1014, 10, 4928, 2864, 459, 440, 2251, 4525, 6475, 6, 1930, 168, 343, 203, 826, 3945], [5, 245, 61, 1, 31, 7418, 713, 166, 16, 113, 39, 744, 2002, 3, 1362, 713, 2678, 5, 138, 2678, 3, 96, 2281, 1421, 652, 1], [1622, 7, 3389, 65, 946, 183, 194, 689, 907, 7786, 195, 2193, 3846, 784, 105, 1858, 1206, 7047, 1327, 9, 304, 1, 65, 1379, 6739, 47, 1247, 354, 1349]]\n",
            "=======================================================================\n",
            "단어 집합(vocabulary)의 크기 : 18858\n",
            "등장 빈도가 5번 이하인 희귀 단어의 수: 14251\n",
            "단어 집합에서 희귀 단어를 제외시킬 경우의 단어 집합의 크기 4607\n",
            "단어 집합에서 희귀 단어의 비율: 75.5700498462191\n",
            "전체 등장 빈도에서 희귀 단어 등장 빈도 비율: 14.192129194945945\n",
            "-----------------------------------------------------------------------\n",
            "input\n",
            "input  [[1, 245, 215, 4, 13, 3, 1026, 533], [1, 15, 264, 15, 695], [1, 1709, 405, 3, 422], [1, 446, 624, 156, 3, 93], [1, 59, 50, 16, 265, 1936, 946]]\n",
            "target\n",
            "decoder  [[245, 215, 4, 13, 3, 1026, 533, 2], [15, 264, 15, 695, 2], [1709, 405, 3, 422, 2], [446, 624, 156, 3, 93, 2], [59, 50, 16, 265, 1936, 946, 2]]\n",
            "=======================================================================\n",
            "삭제할 훈련 데이터의 개수 : 6\n",
            "삭제할 테스트 데이터의 개수 : 5\n",
            "훈련 데이터의 개수 : 21678\n",
            "훈련 레이블의 개수 : 21678\n",
            "테스트 데이터의 개수 : 5416\n",
            "테스트 레이블의 개수 : 5416\n"
          ]
        },
        {
          "output_type": "stream",
          "name": "stderr",
          "text": [
            "/usr/local/lib/python3.7/dist-packages/numpy/core/_asarray.py:83: VisibleDeprecationWarning: Creating an ndarray from ragged nested sequences (which is a list-or-tuple of lists-or-tuples-or ndarrays with different lengths or shapes) is deprecated. If you meant to do this, you must specify 'dtype=object' when creating the ndarray\n",
            "  return array(a, dtype, copy=False, order=order)\n"
          ]
        }
      ]
    },
    {
      "cell_type": "code",
      "metadata": {
        "id": "Sp6gR2EyLjB7"
      },
      "source": [
        "###############\n",
        "### Padding ###\n",
        "###############\n",
        "encoder_input_train = pad_sequences(encoder_input_train, maxlen=text_max_len, padding='post')\n",
        "encoder_input_test = pad_sequences(encoder_input_test, maxlen=text_max_len, padding='post')\n",
        "decoder_input_train = pad_sequences(decoder_input_train, maxlen=summary_max_len, padding='post')\n",
        "decoder_target_train = pad_sequences(decoder_target_train, maxlen=summary_max_len, padding='post')\n",
        "decoder_input_test = pad_sequences(decoder_input_test, maxlen=summary_max_len, padding='post')\n",
        "decoder_target_test = pad_sequences(decoder_target_test, maxlen=summary_max_len, padding='post')\n",
        "# 이제 학습에 필요한 데이터 전처리가 모두 끝!"
      ],
      "execution_count": 15,
      "outputs": []
    },
    {
      "cell_type": "markdown",
      "metadata": {
        "id": "_UstHaoVL4TJ"
      },
      "source": [
        "Step 3. 어텐션 메커니즘 사용하기 (추상적 요약)\n",
        "---\n",
        "일반적인 seq2seq보다는 어텐션 메커니즘을 사용한 seq2seq를 사용하는 것이 더 나은 성능을 얻을 수 있어요. 실습 내용을 참고하여 어텐션 메커니즘을 사용한 seq2seq를 설계해 보세요."
      ]
    },
    {
      "cell_type": "code",
      "metadata": {
        "colab": {
          "base_uri": "https://localhost:8080/"
        },
        "id": "SlNw1WEuNnZs",
        "outputId": "c84f3f3e-f43e-4937-9716-deada7036183"
      },
      "source": [
        "from tensorflow.keras.layers import Input, LSTM, Embedding, Dense, Concatenate\n",
        "from tensorflow.keras.models import Model\n",
        "from tensorflow.keras.callbacks import EarlyStopping, ModelCheckpoint\n",
        "\n",
        "#####################\n",
        "### Basic seq2seq ###\n",
        "#####################\n",
        "# 인코더 설계 시작\n",
        "embedding_dim = 128\n",
        "hidden_size = 256\n",
        "\n",
        "# 인코더\n",
        "encoder_inputs = Input(shape=(text_max_len,))\n",
        "\n",
        "# 인코더의 임베딩 층\n",
        "enc_emb = Embedding(src_vocab, embedding_dim)(encoder_inputs)\n",
        "\n",
        "# 인코더의 LSTM 1\n",
        "encoder_lstm1 = LSTM(hidden_size, return_sequences=True, return_state=True ,dropout = 0.4, recurrent_dropout = 0.4)\n",
        "encoder_output1, state_h1, state_c1 = encoder_lstm1(enc_emb)\n",
        "\n",
        "# 인코더의 LSTM 2\n",
        "encoder_lstm2 = LSTM(hidden_size, return_sequences=True, return_state=True, dropout=0.4, recurrent_dropout=0.4)\n",
        "encoder_output2, state_h2, state_c2 = encoder_lstm2(encoder_output1)\n",
        "\n",
        "# 인코더의 LSTM 3\n",
        "encoder_lstm3 = LSTM(hidden_size, return_state=True, return_sequences=True, dropout=0.4, recurrent_dropout=0.4)\n",
        "encoder_outputs, state_h, state_c= encoder_lstm3(encoder_output2)\n",
        "\n",
        "# 디코더 설계\n",
        "decoder_inputs = Input(shape=(None,))\n",
        "\n",
        "# 디코더의 임베딩 층\n",
        "dec_emb_layer = Embedding(tar_vocab, embedding_dim)\n",
        "dec_emb = dec_emb_layer(decoder_inputs)\n",
        "\n",
        "# 디코더의 LSTM\n",
        "decoder_lstm = LSTM(hidden_size, return_sequences=True, return_state=True, dropout=0.4, recurrent_dropout=0.2)\n",
        "decoder_outputs, _, _ = decoder_lstm(dec_emb, initial_state=[state_h, state_c])\n",
        "\n",
        "# 디코더의 출력층\n",
        "decoder_softmax_layer = Dense(tar_vocab, activation='softmax')\n",
        "decoder_softmax_outputs = decoder_softmax_layer(decoder_outputs) \n",
        "\n",
        "# 모델 정의\n",
        "model = Model([encoder_inputs, decoder_inputs], decoder_softmax_outputs)\n",
        "model.summary()"
      ],
      "execution_count": 16,
      "outputs": [
        {
          "output_type": "stream",
          "name": "stdout",
          "text": [
            "WARNING:tensorflow:Layer lstm will not use cuDNN kernel since it doesn't meet the cuDNN kernel criteria. It will use generic GPU kernel as fallback when running on GPU\n",
            "WARNING:tensorflow:Layer lstm_1 will not use cuDNN kernel since it doesn't meet the cuDNN kernel criteria. It will use generic GPU kernel as fallback when running on GPU\n",
            "WARNING:tensorflow:Layer lstm_2 will not use cuDNN kernel since it doesn't meet the cuDNN kernel criteria. It will use generic GPU kernel as fallback when running on GPU\n",
            "WARNING:tensorflow:Layer lstm_3 will not use cuDNN kernel since it doesn't meet the cuDNN kernel criteria. It will use generic GPU kernel as fallback when running on GPU\n",
            "Model: \"model\"\n",
            "__________________________________________________________________________________________________\n",
            "Layer (type)                    Output Shape         Param #     Connected to                     \n",
            "==================================================================================================\n",
            "input_1 (InputLayer)            [(None, 50)]         0                                            \n",
            "__________________________________________________________________________________________________\n",
            "embedding (Embedding)           (None, 50, 128)      1024000     input_1[0][0]                    \n",
            "__________________________________________________________________________________________________\n",
            "lstm (LSTM)                     [(None, 50, 256), (N 394240      embedding[0][0]                  \n",
            "__________________________________________________________________________________________________\n",
            "input_2 (InputLayer)            [(None, None)]       0                                            \n",
            "__________________________________________________________________________________________________\n",
            "lstm_1 (LSTM)                   [(None, 50, 256), (N 525312      lstm[0][0]                       \n",
            "__________________________________________________________________________________________________\n",
            "embedding_1 (Embedding)         (None, None, 128)    256000      input_2[0][0]                    \n",
            "__________________________________________________________________________________________________\n",
            "lstm_2 (LSTM)                   [(None, 50, 256), (N 525312      lstm_1[0][0]                     \n",
            "__________________________________________________________________________________________________\n",
            "lstm_3 (LSTM)                   [(None, None, 256),  394240      embedding_1[0][0]                \n",
            "                                                                 lstm_2[0][1]                     \n",
            "                                                                 lstm_2[0][2]                     \n",
            "__________________________________________________________________________________________________\n",
            "dense (Dense)                   (None, None, 2000)   514000      lstm_3[0][0]                     \n",
            "==================================================================================================\n",
            "Total params: 3,633,104\n",
            "Trainable params: 3,633,104\n",
            "Non-trainable params: 0\n",
            "__________________________________________________________________________________________________\n"
          ]
        }
      ]
    },
    {
      "cell_type": "code",
      "metadata": {
        "colab": {
          "base_uri": "https://localhost:8080/"
        },
        "id": "575BeaGMO-Vl",
        "outputId": "f9eafdd9-6102-4741-a38d-4e944ef11891"
      },
      "source": [
        "###########################\n",
        "### Attention Mechanism ###\n",
        "###########################\n",
        "urllib.request.urlretrieve(\"https://raw.githubusercontent.com/thushv89/attention_keras/master/src/layers/attention.py\", filename=\"attention.py\")\n",
        "from attention import AttentionLayer\n",
        "\n",
        "# 어텐션 층(어텐션 함수)\n",
        "attn_layer = AttentionLayer(name='attention_layer')\n",
        "# 인코더와 디코더의 모든 time step의 hidden state를 어텐션 층에 전달하고 결과를 리턴\n",
        "attn_out, attn_states = attn_layer([encoder_outputs, decoder_outputs])\n",
        "\n",
        "# 어텐션의 결과와 디코더의 hidden state들을 연결\n",
        "decoder_concat_input = Concatenate(axis=-1, name='concat_layer')([decoder_outputs, attn_out])\n",
        "\n",
        "# 디코더의 출력층\n",
        "decoder_softmax_layer = Dense(tar_vocab, activation='softmax')\n",
        "decoder_softmax_outputs = decoder_softmax_layer(decoder_concat_input)\n",
        "\n",
        "# 모델 정의\n",
        "model = Model([encoder_inputs, decoder_inputs], decoder_softmax_outputs)\n",
        "model.summary()"
      ],
      "execution_count": 17,
      "outputs": [
        {
          "output_type": "stream",
          "name": "stdout",
          "text": [
            "Model: \"model_1\"\n",
            "__________________________________________________________________________________________________\n",
            "Layer (type)                    Output Shape         Param #     Connected to                     \n",
            "==================================================================================================\n",
            "input_1 (InputLayer)            [(None, 50)]         0                                            \n",
            "__________________________________________________________________________________________________\n",
            "embedding (Embedding)           (None, 50, 128)      1024000     input_1[0][0]                    \n",
            "__________________________________________________________________________________________________\n",
            "lstm (LSTM)                     [(None, 50, 256), (N 394240      embedding[0][0]                  \n",
            "__________________________________________________________________________________________________\n",
            "input_2 (InputLayer)            [(None, None)]       0                                            \n",
            "__________________________________________________________________________________________________\n",
            "lstm_1 (LSTM)                   [(None, 50, 256), (N 525312      lstm[0][0]                       \n",
            "__________________________________________________________________________________________________\n",
            "embedding_1 (Embedding)         (None, None, 128)    256000      input_2[0][0]                    \n",
            "__________________________________________________________________________________________________\n",
            "lstm_2 (LSTM)                   [(None, 50, 256), (N 525312      lstm_1[0][0]                     \n",
            "__________________________________________________________________________________________________\n",
            "lstm_3 (LSTM)                   [(None, None, 256),  394240      embedding_1[0][0]                \n",
            "                                                                 lstm_2[0][1]                     \n",
            "                                                                 lstm_2[0][2]                     \n",
            "__________________________________________________________________________________________________\n",
            "attention_layer (AttentionLayer ((None, None, 256),  131328      lstm_2[0][0]                     \n",
            "                                                                 lstm_3[0][0]                     \n",
            "__________________________________________________________________________________________________\n",
            "concat_layer (Concatenate)      (None, None, 512)    0           lstm_3[0][0]                     \n",
            "                                                                 attention_layer[0][0]            \n",
            "__________________________________________________________________________________________________\n",
            "dense_1 (Dense)                 (None, None, 2000)   1026000     concat_layer[0][0]               \n",
            "==================================================================================================\n",
            "Total params: 4,276,432\n",
            "Trainable params: 4,276,432\n",
            "Non-trainable params: 0\n",
            "__________________________________________________________________________________________________\n"
          ]
        }
      ]
    },
    {
      "cell_type": "code",
      "metadata": {
        "colab": {
          "base_uri": "https://localhost:8080/"
        },
        "id": "uZNwxvntQLcb",
        "outputId": "d3d1037a-b05d-41e8-c31d-0f59268fabc1"
      },
      "source": [
        "###################\n",
        "### Train model ###\n",
        "###################\n",
        "model.compile(optimizer='rmsprop', loss='sparse_categorical_crossentropy')\n",
        "es = EarlyStopping(monitor='val_loss', patience=2, verbose=1)\n",
        "history = model.fit(x=[encoder_input_train, decoder_input_train], y=decoder_target_train, \\\n",
        "          validation_data=([encoder_input_test, decoder_input_test], decoder_target_test), \\\n",
        "          batch_size=256, callbacks=[es], epochs=50)"
      ],
      "execution_count": 18,
      "outputs": [
        {
          "output_type": "stream",
          "name": "stdout",
          "text": [
            "Epoch 1/50\n",
            "85/85 [==============================] - 49s 465ms/step - loss: 5.3710 - val_loss: 4.5079\n",
            "Epoch 2/50\n",
            "85/85 [==============================] - 39s 454ms/step - loss: 4.5411 - val_loss: 4.3117\n",
            "Epoch 3/50\n",
            "85/85 [==============================] - 38s 450ms/step - loss: 4.3464 - val_loss: 4.2061\n",
            "Epoch 4/50\n",
            "85/85 [==============================] - 38s 451ms/step - loss: 4.2091 - val_loss: 4.0775\n",
            "Epoch 5/50\n",
            "85/85 [==============================] - 38s 447ms/step - loss: 4.0530 - val_loss: 3.9372\n",
            "Epoch 6/50\n",
            "85/85 [==============================] - 38s 447ms/step - loss: 3.9199 - val_loss: 3.8547\n",
            "Epoch 7/50\n",
            "85/85 [==============================] - 38s 445ms/step - loss: 3.7790 - val_loss: 3.7498\n",
            "Epoch 8/50\n",
            "85/85 [==============================] - 38s 447ms/step - loss: 3.6354 - val_loss: 3.6784\n",
            "Epoch 9/50\n",
            "85/85 [==============================] - 38s 448ms/step - loss: 3.5201 - val_loss: 3.5908\n",
            "Epoch 10/50\n",
            "85/85 [==============================] - 38s 447ms/step - loss: 3.4225 - val_loss: 3.5521\n",
            "Epoch 11/50\n",
            "85/85 [==============================] - 38s 447ms/step - loss: 3.3189 - val_loss: 3.5114\n",
            "Epoch 12/50\n",
            "85/85 [==============================] - 38s 449ms/step - loss: 3.2433 - val_loss: 3.4473\n",
            "Epoch 13/50\n",
            "85/85 [==============================] - 38s 449ms/step - loss: 3.1542 - val_loss: 3.4228\n",
            "Epoch 14/50\n",
            "85/85 [==============================] - 38s 447ms/step - loss: 3.0733 - val_loss: 3.3942\n",
            "Epoch 15/50\n",
            "85/85 [==============================] - 38s 450ms/step - loss: 2.9915 - val_loss: 3.3813\n",
            "Epoch 16/50\n",
            "85/85 [==============================] - 38s 445ms/step - loss: 2.9401 - val_loss: 3.3586\n",
            "Epoch 17/50\n",
            "85/85 [==============================] - 38s 447ms/step - loss: 2.8745 - val_loss: 3.3328\n",
            "Epoch 18/50\n",
            "85/85 [==============================] - 38s 445ms/step - loss: 2.8177 - val_loss: 3.3265\n",
            "Epoch 19/50\n",
            "85/85 [==============================] - 38s 447ms/step - loss: 2.7489 - val_loss: 3.3021\n",
            "Epoch 20/50\n",
            "85/85 [==============================] - 38s 446ms/step - loss: 2.6915 - val_loss: 3.3109\n",
            "Epoch 21/50\n",
            "85/85 [==============================] - 38s 447ms/step - loss: 2.6337 - val_loss: 3.3038\n",
            "Epoch 00021: early stopping\n"
          ]
        }
      ]
    },
    {
      "cell_type": "code",
      "metadata": {
        "colab": {
          "base_uri": "https://localhost:8080/",
          "height": 265
        },
        "id": "slTD9A-gQRi4",
        "outputId": "5ed77a00-3710-44dd-98bd-3f61af4f32c2"
      },
      "source": [
        "################\n",
        "### Plotting ###\n",
        "################\n",
        "plt.plot(history.history['loss'], label='train')\n",
        "plt.plot(history.history['val_loss'], label='test')\n",
        "plt.legend()\n",
        "plt.show()"
      ],
      "execution_count": 19,
      "outputs": [
        {
          "output_type": "display_data",
          "data": {
            "image/png": "[encoded data removed]",
            "text/plain": [
              "<Figure size 432x288 with 1 Axes>"
            ]
          },
          "metadata": {
            "needs_background": "light"
          }
        }
      ]
    },
    {
      "cell_type": "code",
      "metadata": {
        "id": "ZgjqBqMvQmpB"
      },
      "source": [
        "#######################\n",
        "### Inference model ###\n",
        "#######################\n",
        "src_index_to_word = src_tokenizer.index_word # 원문 단어 집합에서 정수 -> 단어를 얻음\n",
        "tar_word_to_index = tar_tokenizer.word_index # 요약 단어 집합에서 단어 -> 정수를 얻음\n",
        "tar_index_to_word = tar_tokenizer.index_word # 요약 단어 집합에서 정수 -> 단어를 얻음\n",
        "\n",
        "# 인코더 설계\n",
        "encoder_model = Model(inputs=encoder_inputs, outputs=[encoder_outputs, state_h, state_c])\n",
        "\n",
        "# 이전 시점의 상태들을 저장하는 텐서\n",
        "decoder_state_input_h = Input(shape=(hidden_size,))\n",
        "decoder_state_input_c = Input(shape=(hidden_size,))\n",
        "\n",
        "dec_emb2 = dec_emb_layer(decoder_inputs)\n",
        "\n",
        "# 문장의 다음 단어를 예측하기 위해서 초기 상태(initial_state)를 이전 시점의 상태로 사용. 이는 뒤의 함수 decode_sequence()에 구현\n",
        "# 훈련 과정에서와 달리 LSTM의 리턴하는 은닉 상태와 셀 상태인 state_h와 state_c를 버리지 않음.\n",
        "decoder_outputs2, state_h2, state_c2 = decoder_lstm(dec_emb2, initial_state=[decoder_state_input_h, decoder_state_input_c])\n",
        "\n",
        "\n",
        "# 어텐션 함수\n",
        "decoder_hidden_state_input = Input(shape=(text_max_len, hidden_size))\n",
        "attn_out_inf, attn_states_inf = attn_layer([decoder_hidden_state_input, decoder_outputs2])\n",
        "decoder_inf_concat = Concatenate(axis=-1, name='concat')([decoder_outputs2, attn_out_inf])\n",
        "\n",
        "# 디코더의 출력층\n",
        "decoder_outputs2 = decoder_softmax_layer(decoder_inf_concat) \n",
        "\n",
        "# 최종 디코더 모델\n",
        "decoder_model = Model(\n",
        "    [decoder_inputs] + [decoder_hidden_state_input,decoder_state_input_h, decoder_state_input_c],\n",
        "    [decoder_outputs2] + [state_h2, state_c2])\n",
        "\n",
        "\n",
        "def decode_sequence(input_seq):\n",
        "    # 입력으로부터 인코더의 상태를 얻음\n",
        "    e_out, e_h, e_c = encoder_model.predict(input_seq)\n",
        "\n",
        "     # <SOS>에 해당하는 토큰 생성\n",
        "    target_seq = np.zeros((1,1))\n",
        "    target_seq[0, 0] = tar_word_to_index['sostoken']\n",
        "\n",
        "    stop_condition = False\n",
        "    decoded_sentence = ''\n",
        "    while not stop_condition: # stop_condition이 True가 될 때까지 루프 반복\n",
        "\n",
        "        output_tokens, h, c = decoder_model.predict([target_seq] + [e_out, e_h, e_c])\n",
        "        sampled_token_index = np.argmax(output_tokens[0, -1, :])\n",
        "        sampled_token = tar_index_to_word[sampled_token_index]\n",
        "\n",
        "        if (sampled_token!='eostoken'):\n",
        "            decoded_sentence += ' '+sampled_token\n",
        "\n",
        "        #  <eos>에 도달하거나 최대 길이를 넘으면 중단.\n",
        "        if (sampled_token == 'eostoken'  or len(decoded_sentence.split()) >= (summary_max_len-1)):\n",
        "            stop_condition = True\n",
        "\n",
        "        # 길이가 1인 타겟 시퀀스를 업데이트\n",
        "        target_seq = np.zeros((1,1))\n",
        "        target_seq[0, 0] = sampled_token_index\n",
        "\n",
        "        # 상태를 업데이트 합니다.\n",
        "        e_h, e_c = h, c\n",
        "\n",
        "    return decoded_sentence"
      ],
      "execution_count": 20,
      "outputs": []
    },
    {
      "cell_type": "markdown",
      "metadata": {
        "id": "IdwLJmUhrzN_"
      },
      "source": [
        "Step 4. 실제 결과와 요약문 비교하기 (추상적 요약)\n",
        "---\n",
        "원래의 요약문(headlines 열)과 학습을 통해 얻은 추상적 요약의 결과 비교"
      ]
    },
    {
      "cell_type": "code",
      "metadata": {
        "colab": {
          "base_uri": "https://localhost:8080/"
        },
        "id": "6Z1UqdAhr6CI",
        "outputId": "10321de7-7d71-4373-badc-11c3e50ddea0"
      },
      "source": [
        "# 원문의 정수 시퀀스를 텍스트 시퀀스로 변환\n",
        "def seq2text(input_seq):\n",
        "    temp=''\n",
        "    for i in input_seq:\n",
        "        if (i!=0):\n",
        "            temp = temp + src_index_to_word[i]+' '\n",
        "    return temp\n",
        "\n",
        "# 요약문의 정수 시퀀스를 텍스트 시퀀스로 변환\n",
        "def seq2summary(input_seq):\n",
        "    temp=''\n",
        "    for i in input_seq:\n",
        "        if ((i!=0 and i!=tar_word_to_index['sostoken']) and i!=tar_word_to_index['eostoken']):\n",
        "            temp = temp + tar_index_to_word[i] + ' '\n",
        "    return temp\n",
        "\n",
        "\n",
        "for i in range(50, 100):\n",
        "    print(\"원문 :\", seq2text(encoder_input_test[i]))\n",
        "    print(\"실제 요약 :\", seq2summary(decoder_input_test[i]))\n",
        "    print(\"예측 요약 :\", decode_sequence(encoder_input_test[i].reshape(1, text_max_len)))\n",
        "    print(\"\\n\")"
      ],
      "execution_count": 21,
      "outputs": [
        {
          "output_type": "stream",
          "name": "stdout",
          "text": [
            "원문 : zimbabwe cricket union approached international cricket council loan bail board financial crisis crisis led speculation zimbabwe series pakistan last year players office workers non payment salaries \n",
            "실제 요약 : zimbabwe cricket board icc for loan \n",
            "예측 요약 :  bcci to be on\n",
            "\n",
            "\n",
            "원문 : local court issued non bailable warrants minister suresh rana former union minister sanjeev bjp mlas sangeet malik allegedly inciting violence muzaffarnagar riots people killed displaced communal clashes accused directed appear court january \n",
            "실제 요약 : warrant against minister over riots \n",
            "예측 요약 :  sc appointed in kerala\n",
            "\n",
            "\n",
            "원문 : technology major google reportedly working ear headphones bluetooth capabilities headphones also built calls traditional audio cable listening however reports added headphones could also upgrade existing headphones google issues employees \n",
            "실제 요약 : google working on report \n",
            "예측 요약 :  google unveils its first smartphone\n",
            "\n",
            "\n",
            "원문 : nike removed website twitter users accused company targeting gang culture profit widely circulated image showed black model wearing included users compared nike gun knife crime well racial well done user tweeted \n",
            "실제 요약 : slammed for selling \n",
            "예측 요약 :  twitter bans global account for\n",
            "\n",
            "\n",
            "원문 : federal bank monday reported jump september quarter profit crore compared crore year ago net interest income core income earned giving loans increased crore asset quality bank improved gross bad loans falling compared previous quarter \n",
            "실제 요약 : bank net profit rises to crore \n",
            "예측 요약 :  profit rises to crore in\n",
            "\n",
            "\n",
            "원문 : income tax department conducted raids locations delhi gurugram tuesday connection benami land deals involving rjd chief lalu prasad yadav family allegations benami deals worth crore tax evasion official said raids conducted people businessmen connected deal \n",
            "실제 요약 : in cr scam lalu \n",
            "예측 요약 :  delhi police to get crore\n",
            "\n",
            "\n",
            "원문 : eight ipl spent crore buy players ipl auction jaipur tuesday kings xi punjab spent crore bought number players auction chennai super kings spent crore fill two available many players selected auction \n",
            "실제 요약 : crore spent for players in ipl auction \n",
            "예측 요약 :  ipl crore in ipl\n",
            "\n",
            "\n",
            "원문 : discussion army camp attack killed jawans national conference mla mohammad akbar lone saturday raised pakistan slogans assembly lone said bjp members started raising anti pakistan slogans discussion meanwhile national conference said condemned actions \n",
            "실제 요약 : mla raises pakistan in assembly \n",
            "예측 요약 :  crpf personnel martyred in kashmir in kashmir\n",
            "\n",
            "\n",
            "원문 : fan one china highest paid film stars given social responsibility rating chinese authorities reported missing two months part men days future past named last ranking celebrities rating person professional life work personal integrity \n",
            "실제 요약 : china best paid actor given social responsibility \n",
            "예측 요약 :  film\n",
            "\n",
            "\n",
            "원문 : german startup aviation thursday successfully completed first test flight world first electric vertical take landing jet startup claims two seater jet remain airborne km maximum speed kmph jet electric engines mounted via \n",
            "실제 요약 : first electric jet test flight \n",
            "예측 요약 :  ai launches self driving\n",
            "\n",
            "\n",
            "원문 : uber self driving truck unit uber advanced technologies group facing investigation us government tests trucks investigation determine whether uber broke state law tested trucks public highways without permission us officials visit unit see trucks capabilities person \n",
            "실제 요약 : uber truck faces over tests \n",
            "예측 요약 :  uber launches uber for app\n",
            "\n",
            "\n",
            "원문 : two months brihanmumbai municipal corporation rejected proposal hectares land milk colony metro car instead green zone state government government reportedly listed six measures include feet tall trees environmental impact move \n",
            "실제 요약 : maharashtra government sanctions metro car at \n",
            "예측 요약 :  mumbai airport to get\n",
            "\n",
            "\n",
            "원문 : nasa hubble space telescope captured image solar system asteroids seen view distant galaxies image reveals asteroid galaxies four billion times seen human eye apparent asteroid due motion earth asteroids around sun \n",
            "실제 요약 : nasa telescope \n",
            "예측 요약 :  astronomers star in the first time\n",
            "\n",
            "\n",
            "원문 : british cancer scientist rahman million grant money revoked allegations current former colleagues rahman resigned position london institute cancer research last month following complaints rahman current former colleagues claim created working environment \n",
            "실제 요약 : scientist cr money over claims \n",
            "예측 요약 :  accused of sexual harassment\n",
            "\n",
            "\n",
            "원문 : american woman born rare disorder wore golden arm wedding day marine said whole point wearing draw attention marine usually black arm year old model worked brands like \n",
            "실제 요약 : woman arm on wedding day \n",
            "예측 요약 :  video shows in\n",
            "\n",
            "\n",
            "원문 : urging nation youth take part sports prime minister narendra modi mann ki baat speech said age computers playing field become pm modi also sports national sports day called increased participation sporting activities \n",
            "실제 요약 : playing more important than pm modi \n",
            "예측 요약 :  pm modi to visit pm modi\n",
            "\n",
            "\n",
            "원문 : us president donald trump word multiple times twitter user wrote words good words jeans see got good jeans users tweeted cannot hell mean correctly \n",
            "실제 요약 : twitter mocks trump for the word \n",
            "예측 요약 :  twitter reacts to trump\n",
            "\n",
            "\n",
            "원문 : separatists seeking independence south yemen seized control country presidential palace two days clashes troops fighting erupted deadline issued separatists recognised government resign expired pm ahmed reportedly preparing flee described incident coup \n",
            "실제 요약 : yemen presidential after clashes \n",
            "예측 요약 :  iran to end terrorism\n",
            "\n",
            "\n",
            "원문 : indigo four kashmiri youths patna delhi flight thursday evening receiving complaints alleged behaviour passenger said heard youths following one said would sit aircraft cockpit ruling terror security agencies released conducting background check screening baggage \n",
            "실제 요약 : indigo from plane for behaviour \n",
            "예측 요약 :  students students students on school\n",
            "\n",
            "\n",
            "원문 : speaking virat kohli former indian cricketer sanjay tweeted problem opposition general lack success england tried ended getting runs series much made virat yes always read rest tweet \n",
            "실제 요약 : in kohli sanjay \n",
            "예측 요약 :  kohli on kohli\n",
            "\n",
            "\n",
            "원문 : apple million samsung us jury ruled latter pay amount copying patented iphone features case ongoing since samsung found liable previously paid million apple apple claims samsung made billion revenue billion profit patent phones \n",
            "실제 요약 : apple wins mn from samsung over patent \n",
            "예측 요약 :  apple loses million from snapdeal\n",
            "\n",
            "\n",
            "원문 : shiv sena chief thackeray saturday slammed bjp asked party teaching sena members alleged demonetisation considered opposed move termed criticised bjp government gst rollout introduction bullet trains \n",
            "실제 요약 : us sena chief to bjp \n",
            "예측 요약 :  bjp should be shiv sena\n",
            "\n",
            "\n",
            "원문 : reacting coach ravi shastri claim rounder ravindra jadeja fully fit ahead second test indian team chief prasad said jadeja absolutely fit picked australia tour prasad stated jadeja declared fit fitness report presented tour \n",
            "실제 요약 : was chief prasad \n",
            "예측 요약 :  ashwin to be in\n",
            "\n",
            "\n",
            "원문 : temple outskirts chennai offers prasad devotees jaya slip tokens vending machines collect temple certified fast food menu also offers birthday cake wherein cake delivered devotees \n",
            "실제 요약 : chennai temple offers as prasad \n",
            "예측 요약 :  in pictures of up\n",
            "\n",
            "\n",
            "원문 : indian wrestler silver medal ongoing asian championships thursday lost chinese wrestler margin women kg final second consecutive silver annual event following finish tournament new delhi \n",
            "실제 요약 : at asian \n",
            "예측 요약 :  wins at\n",
            "\n",
            "\n",
            "원문 : following user backlash removing google chrome address bar technology giant rolled back changes according company post users claimed special case makes spot legitimate sites increases risk however google said hiding upcoming version chrome \n",
            "실제 요약 : google in following user \n",
            "예측 요약 :  facebook to user\n",
            "\n",
            "\n",
            "원문 : electronic cigarette pen battery exploded pocket british man jason two inches away aged said felt warm pocket device exploded seconds later result suffered severe burn doctors second third degree \n",
            "실제 요약 : explodes in man in uk \n",
            "예측 요약 :  scientists find that that\n",
            "\n",
            "\n",
            "원문 : goa chief minister office monday announced power minister urban development minister francis souza longer part cabinet souza undergoing treatment us admitted hospital mumbai suffered stroke bjp leaders naik expected replace \n",
            "실제 요약 : ministers from goa cabinet \n",
            "예측 요약 :  goa minister to\n",
            "\n",
            "\n",
            "원문 : indian railways increased monthly cap tickets booked irctc portal six aadhaar verified passengers move aims encourage passengers link digit unique numbers online booking accounts irctc however passengers continue book six tickets month without aadhaar number \n",
            "실제 요약 : aadhaar accounts can book tickets month \n",
            "예측 요약 :  railways to get fake app\n",
            "\n",
            "\n",
            "원문 : central board direct saturday extended deadline pan aadhaar linking june march fifth time government extended deadline individuals link pan aadhaar crore crore linked aadhaar till march year \n",
            "실제 요약 : aadhaar deadline extended to march \n",
            "예측 요약 :  aadhaar to be mandatory for gst\n",
            "\n",
            "\n",
            "원문 : us judge ordered video recorded review emails hillary clinton relating use private server official communications tenure state secretary order came response lawsuit filed watchdog demanding review reports blamed fbi probe clinton emails presidential election defeat \n",
            "실제 요약 : us judge orders review of clinton \n",
            "예측 요약 :  russia to uk\n",
            "\n",
            "\n",
            "원문 : deepika padukone ranveer singh left mumbai today bengaluru hosting first wedding reception november per reports post wedding reception bengaluru returning mumbai second reception take place november third one december according reports \n",
            "실제 요약 : deepika ranveer leave for bengaluru for reports \n",
            "예측 요약 :  ranveer singh turns showstopper for\n",
            "\n",
            "\n",
            "원문 : world largest six foot long chinese giant face extinction due illegal poaching hunting luxury food researchers warned although china program place release back wild study found five species one actually spreading diseases situation \n",
            "실제 요약 : world largest being to study \n",
            "예측 요약 :  world largest to\n",
            "\n",
            "\n",
            "원문 : former australian cricketer shane criticised australian team saying australian cricket need complete part tweet read coaching levels programme academy producing quality smart cricketers said return steve smith david warner help australia \n",
            "실제 요약 : australian cricket needs complete \n",
            "예측 요약 :  australia captain calls for\n",
            "\n",
            "\n",
            "원문 : official trailer irrfan khan starrer released film irrfan seen playing role man finds wife cheating directed also starring singh dutta film scheduled release april \n",
            "실제 요약 : trailer of irrfan khan starrer released \n",
            "예측 요약 :  trailer of irrfan khan starrer released\n",
            "\n",
            "\n",
            "원문 : real madrid footballer cristiano ronaldo named europe richest second highest paid european forbes list highest paid european year old striker earned million million short author richest celebrity roger federer million second among fifth overall \n",
            "실제 요약 : cristiano ronaldo europe richest \n",
            "예측 요약 :  ronaldo ronaldo highest in highest highest\n",
            "\n",
            "\n",
            "원문 : court monday declared former pakistan finance minister repeatedly failed appear trial case linked panama papers scandal accused assets beyond known sources income reportedly undergoing medical treatment london since october \n",
            "실제 요약 : former pak finance minister declared \n",
            "예측 요약 :  aiadmk demands of\n",
            "\n",
            "\n",
            "원문 : dollar japanese conglomerate softbank reportedly talks invest indian online insurance aggregator valuation million indian regulatory policies limit foreign domestic investment country already foreign investors namely tiger global management temasek holdings control stake company \n",
            "실제 요약 : softbank may back indian insurance startup \n",
            "예측 요약 :  flipkart invests billion in india\n",
            "\n",
            "\n",
            "원문 : oscar winning director favourite received oscars nominations including best picture production design star born adam vice nominated eight oscars black received seven nominations became first superhero movie nominated best picture \n",
            "실제 요약 : the oscars with each \n",
            "예측 요약 :  einstein to be\n",
            "\n",
            "\n",
            "원문 : union minister sushma swaraj sunday said india committed economic afghanistan speaking india central asia dialogue added india committed promoting afghan led afghan owned afghan controlled peace process country india central asia afghan said \n",
            "실제 요약 : india to economic of afghan swaraj \n",
            "예측 요약 :  india to have india\n",
            "\n",
            "\n",
            "원문 : bombay high court dismissed plea seeking disclosure goa cm manohar parrikar health condition called request violent right privacy cm stating constitutional post ill health called petition goa politician political interest \n",
            "실제 요약 : bombay hc rejects plea seeking medical \n",
            "예측 요약 :  ram rahim appointed in\n",
            "\n",
            "\n",
            "원문 : eleven mlas nagaland main opposition party people front demanded government top model toyota worth lakh official vehicles assembly reportedly ordered worth lakh letter mlas said would accept maintenance issues \n",
            "실제 요약 : nagaland opposition mlas demand cars worth lakh each \n",
            "예측 요약 :  bjp mlas in kerala\n",
            "\n",
            "\n",
            "원문 : vidya balan said comes performance films want films well theatres first good way one film good added vidya last seen film \n",
            "실제 요약 : am about my film performance \n",
            "예측 요약 :  have for\n",
            "\n",
            "\n",
            "원문 : cricketer turned commentator virender sehwag congratulated indian army jammu kashmir police terrorists calling unbeaten double century comes jammu kashmir sp revealed militants killed year highest since called huge landmark establishing peace \n",
            "실제 요약 : sehwag police for double century \n",
            "예측 요약 :  sehwag breaks his in\n",
            "\n",
            "\n",
            "원문 : american chipmaker intel announced bring connected windows computers market second half company partnered microsoft achieve goal intel said statement powered intel series commercial \n",
            "실제 요약 : to to in \n",
            "예측 요약 :  company unveils its first company\n",
            "\n",
            "\n",
            "원문 : american economist richard awarded nobel prize economic sciences supported indian government demonetisation decision november tweeted policy long supported first step good start reducing corruption awarded nobel prize contributions economics \n",
            "실제 요약 : nobel winning had demonetisation \n",
            "예측 요약 :  appointed as as\n",
            "\n",
            "\n",
            "원문 : minister state defence subhash revealed vacant posts pilots army navy sanctioned strength army navy air force suffering shortage pilots sufficient strength meet requirements minister added \n",
            "실제 요약 : for in indian army navy minister \n",
            "예측 요약 :  india to ceasefire in\n",
            "\n",
            "\n",
            "원문 : malaysia thursday became world oldest pm age earlier led country defeated scandal hit general election ending six decades rule coalition led veteran led opposition coalition first election victory since malaysian independence \n",
            "실제 요약 : malaysia becomes world oldest leader aged \n",
            "예측 요약 :  world first ever\n",
            "\n",
            "\n",
            "원문 : mumbai based automaker unveiled india first electric called festival speed car wheel drive four individual motors wheel enabling however model still stage company release end year \n",
            "실제 요약 : mumbai based unveils india first \n",
            "예측 요약 :  unveils concept\n",
            "\n",
            "\n",
            "원문 : indian comedian kapil sharma performed pakistan super league outfit ahead tournament third season never moment around knows exactly bring smile people faces tweeted owner afridi children cancer hospital also invited show management \n",
            "실제 요약 : kapil sharma performs for pakistan league team \n",
            "예측 요약 :  rohit sharma to win\n",
            "\n",
            "\n"
          ]
        }
      ]
    },
    {
      "cell_type": "markdown",
      "metadata": {
        "id": "U6A42Ijf4wEK"
      },
      "source": [
        "Step 5. Summa을 이용해서 추출적 요약해보기\n",
        "---\n",
        "추상적 요약은 추출적 요약과는 달리 문장의 표현력을 다양하게 가져갈 수 있지만, 추출적 요약에 비해서 난이도가 높음   \n",
        "반대로 말하면 추출적 요약은 추상적 요약에 비해 난이도가 낮고 기존 문장에서 문장을 꺼내오는 것이므로 잘못된 요약이 나올 가능성이 낮음"
      ]
    },
    {
      "cell_type": "code",
      "metadata": {
        "colab": {
          "base_uri": "https://localhost:8080/"
        },
        "id": "xPLb-Woqs9zi",
        "outputId": "2739b703-dfeb-4d52-dcf6-4d606dba0c5a"
      },
      "source": [
        "! pip install summa"
      ],
      "execution_count": 22,
      "outputs": [
        {
          "output_type": "stream",
          "name": "stdout",
          "text": [
            "Requirement already satisfied: summa in /usr/local/lib/python3.7/dist-packages (1.2.0)\n",
            "Requirement already satisfied: scipy>=0.19 in /usr/local/lib/python3.7/dist-packages (from summa) (1.4.1)\n",
            "Requirement already satisfied: numpy>=1.13.3 in /usr/local/lib/python3.7/dist-packages (from scipy>=0.19->summa) (1.19.5)\n"
          ]
        }
      ]
    },
    {
      "cell_type": "code",
      "metadata": {
        "colab": {
          "base_uri": "https://localhost:8080/"
        },
        "id": "jo82KRA8s3TG",
        "outputId": "a36e1528-90bb-4805-a09b-5c3c07bfa7d6"
      },
      "source": [
        "#####################\n",
        "### Download data ###\n",
        "#####################\n",
        "import requests\n",
        "from summa.summarizer import summarize\n",
        "data_original = pd.read_csv('news_summary_more.csv', encoding='iso-8859-1')\n",
        "data['text'][:10]"
      ],
      "execution_count": 23,
      "outputs": [
        {
          "output_type": "execute_result",
          "data": {
            "text/plain": [
              "19    union minister dharmendra pradhan wednesday cl...\n",
              "21    indian space research organisation wednesday u...\n",
              "22    least people killed others injured saudi arabi...\n",
              "29    investigators searching lost plane carrying ar...\n",
              "36    agustawestland chopper scam co accused rajiv s...\n",
              "37    afghan president ashraf ghani said keys war pa...\n",
              "38    singapore based insurance agent jailed two yea...\n",
              "41    swedish multinational fast fashion brand henne...\n",
              "42    micro blogging platform twitter testing new fe...\n",
              "49    us tuesday began returning asylum seekers mexi...\n",
              "Name: text, dtype: object"
            ]
          },
          "metadata": {},
          "execution_count": 23
        }
      ]
    },
    {
      "cell_type": "markdown",
      "metadata": {
        "id": "W0PAU7WZuNGO"
      },
      "source": [
        "summarize():\n",
        ">text (str) - 요약할 테스트.   \n",
        "ratio (float, optional) - 요약문에서 원본에서 선택되는 문장 비율. 0~1 사이값   \n",
        "words (int or None, optional) - 출력에 포함할 단어 수.   \n",
        "만약, ratio와 함께 두 파라미터가 모두 제공되는 경우 ratio는 무시한다.   \n",
        ">split (bool, optional) - True면 문장 list / False는 조인(join)된 문자열을 반환   "
      ]
    },
    {
      "cell_type": "code",
      "metadata": {
        "colab": {
          "base_uri": "https://localhost:8080/"
        },
        "id": "q2Ozcck23b-a",
        "outputId": "b023e044-9e41-4624-d5e2-4e9f0e612051"
      },
      "source": [
        "############################################\n",
        "### Extractive summarization using summa ###\n",
        "############################################\n",
        "for i in data['text'].index[:10]:\n",
        "    print('Original text:           ', data_original['text'][i])\n",
        "    # print(data_original['text'][i])\n",
        "    print('Extractive summary(1):   ', summarize(data_original['text'][i], ratio=.5))\n",
        "    print('Extractive summary(2):   ', summarize(data_original['text'][i], words=10))\n",
        "    # print(summarize(data_original['text'][i], ratio=.5))\n",
        "    print('Actual headlines:        ', data_original['headlines'][i])\n",
        "    # print(data_original['headlines'][i])\n",
        "    print('Preprocessed text:       ', data['text'][i])\n",
        "    print('Preprocessed haedlines:  ', data['headlines'][i])\n",
        "    print('\\n')\n",
        "    print('-------------------------------------------------------------------')\n",
        "    print('\\n')"
      ],
      "execution_count": 24,
      "outputs": [
        {
          "output_type": "stream",
          "name": "stdout",
          "text": [
            "Original text:            Union Minister Dharmendra Pradhan on Wednesday claimed the illegal mining mafia in Odisha operates under the control of CM Naveen Patnaik and state Congress chief Niranjan Patnaik. He added, \"The time has come for the people of Odisha to put a full stop to their activities...The time has come for us to ask for an explanation from this corrupt government.\"\n",
            "Extractive summary(1):    Union Minister Dharmendra Pradhan on Wednesday claimed the illegal mining mafia in Odisha operates under the control of CM Naveen Patnaik and state Congress chief Niranjan Patnaik.\n",
            "Extractive summary(2):    \n",
            "Actual headlines:         Odisha CM Patnaik controls mining mafia: Union Minister\n",
            "Preprocessed text:        union minister dharmendra pradhan wednesday claimed illegal mining mafia odisha operates control cm naveen patnaik state congress chief niranjan patnaik added time come people odisha put full stop activities time come us ask explanation corrupt government\n",
            "Preprocessed haedlines:   odisha cm patnaik controls mining mafia union minister\n",
            "\n",
            "\n",
            "-------------------------------------------------------------------\n",
            "\n",
            "\n",
            "Original text:            The Indian Space Research Organisation on Wednesday unveiled Human Space Flight Centre in Bengaluru for its Ã¢ÂÂ¹10,000-crore manned space mission 'Gaganyaan' scheduled for 2021. ISRO said the centre will be responsible for development of engineering systems for crew survival in space and crew selection and training. It'll also pursue activities for sustained human space flight missions, ISRO added.\n",
            "Extractive summary(1):    It'll also pursue activities for sustained human space flight missions, ISRO added.\n",
            "Extractive summary(2):    It'll also pursue activities for sustained human space flight missions, ISRO added.\n",
            "Actual headlines:         ISRO unveils Bengaluru centre for manned space mission \n",
            "Preprocessed text:        indian space research organisation wednesday unveiled human space flight centre bengaluru crore manned space mission gaganyaan scheduled isro said centre responsible development engineering systems crew survival space crew selection training also pursue activities sustained human space flight missions isro added\n",
            "Preprocessed haedlines:   isro unveils bengaluru centre for manned space mission\n",
            "\n",
            "\n",
            "-------------------------------------------------------------------\n",
            "\n",
            "\n",
            "Original text:            At least 12 people have been killed and 170 others have been injured in Saudi Arabia this week due to flooding from heavy rain. The emergency services rescued 271 people from the flooded areas, more than half of them in Tabuk. Heavy rains hit mainly western and northwestern parts of Saudi Arabia, near its border with Jordan.\n",
            "Extractive summary(1):    At least 12 people have been killed and 170 others have been injured in Saudi Arabia this week due to flooding from heavy rain.\n",
            "Extractive summary(2):    \n",
            "Actual headlines:         12 killed, 170 injured in Saudi Arabia floods\n",
            "Preprocessed text:        least people killed others injured saudi arabia week due flooding heavy rain emergency services rescued people flooded areas half tabuk heavy rains hit mainly western northwestern parts saudi arabia near border jordan\n",
            "Preprocessed haedlines:   killed injured in saudi arabia floods\n",
            "\n",
            "\n",
            "-------------------------------------------------------------------\n",
            "\n",
            "\n",
            "Original text:            Investigators searching for a lost plane carrying Argentine forward Emiliano Sala found two seat cushions on French coast that \"likely\" belonged to the aircraft. The investigators said they'll now launch an underwater seabed search for aircraft wreckage. The Cardiff City footballer was travelling from France's Nantes to Wales' Cardiff when his plane disappeared over English Channel on January 21.\n",
            "Extractive summary(1):    Investigators searching for a lost plane carrying Argentine forward Emiliano Sala found two seat cushions on French coast that \"likely\" belonged to the aircraft.\n",
            "Extractive summary(2):    \n",
            "Actual headlines:         2 seat cushions from 'missing plane carrying footballer' found\n",
            "Preprocessed text:        investigators searching lost plane carrying argentine forward emiliano sala found two seat cushions french coast likely belonged aircraft investigators said launch underwater seabed search aircraft wreckage cardiff city footballer travelling france nantes wales cardiff plane disappeared english channel january\n",
            "Preprocessed haedlines:   seat cushions from missing plane carrying footballer found\n",
            "\n",
            "\n",
            "-------------------------------------------------------------------\n",
            "\n",
            "\n",
            "Original text:            AgustaWestland chopper scam co-accused Rajiv Saxena was extradited to India from UAE on Wednesday. He had been evading the Enforcement Directorate's summons claiming he was suffering from leukaemia but had moved an anti-money laundering court for anticipatory bail in December, stating he had never been summoned at his Dubai address. Saxena's lawyers alleged he had been \"illegally extradited\". \n",
            "Extractive summary(1):    AgustaWestland chopper scam co-accused Rajiv Saxena was extradited to India from UAE on Wednesday.\n",
            "Extractive summary(2):    AgustaWestland chopper scam co-accused Rajiv Saxena was extradited to India from UAE on Wednesday.\n",
            "Actual headlines:         AgustaWestland scam accused Rajiv Saxena extradited to India\n",
            "Preprocessed text:        agustawestland chopper scam co accused rajiv saxena extradited india uae wednesday evading enforcement directorate summons claiming suffering leukaemia moved anti money laundering court anticipatory bail december stating never summoned dubai address saxena lawyers alleged illegally extradited\n",
            "Preprocessed haedlines:   agustawestland scam accused rajiv saxena extradited to india\n",
            "\n",
            "\n",
            "-------------------------------------------------------------------\n",
            "\n",
            "\n",
            "Original text:            Afghan President Ashraf Ghani has said the \"keys to war\" are in Pakistan's Islamabad, Quetta and Rawalpindi, accusing the country of providing safe havens to militants, including those belonging to the Taliban. Ghani added the \"key to peace was in Afghanistan\". His comments came amid the talks between the US and the Taliban to end the 17-year war in Afghanistan.\n",
            "Extractive summary(1):    Afghan President Ashraf Ghani has said the \"keys to war\" are in Pakistan's Islamabad, Quetta and Rawalpindi, accusing the country of providing safe havens to militants, including those belonging to the Taliban.\n",
            "Extractive summary(2):    \n",
            "Actual headlines:         Pakistan holds 'keys to war': Afghanistan\n",
            "Preprocessed text:        afghan president ashraf ghani said keys war pakistan islamabad quetta rawalpindi accusing country providing safe havens militants including belonging taliban ghani added key peace afghanistan comments came amid talks us taliban end year war afghanistan\n",
            "Preprocessed haedlines:   pakistan holds keys to war afghanistan\n",
            "\n",
            "\n",
            "-------------------------------------------------------------------\n",
            "\n",
            "\n",
            "Original text:            A Singapore-based insurance agent has been jailed for two years and five months for threatening to harm his clients unless they paid him in bitcoins. The 36-year-old set up an email account, and signed the messages as 'Lord Voldemort', a fictional character from the Harry Potter series. Ye Lin Myint targeted about 33 people, including those who cancelled insurance policies.\n",
            "Extractive summary(1):    A Singapore-based insurance agent has been jailed for two years and five months for threatening to harm his clients unless they paid him in bitcoins.\n",
            "Extractive summary(2):    \n",
            "Actual headlines:         Insurance agent 'Lord Voldemort' jailed for threatening clients\n",
            "Preprocessed text:        singapore based insurance agent jailed two years five months threatening harm clients unless paid bitcoins year old set email account signed messages lord voldemort fictional character harry potter series ye lin myint targeted people including cancelled insurance policies\n",
            "Preprocessed haedlines:   insurance agent lord voldemort jailed for threatening clients\n",
            "\n",
            "\n",
            "-------------------------------------------------------------------\n",
            "\n",
            "\n",
            "Original text:            Swedish multinational fast-fashion brand Hennes & Mauritz AB (H&M) has hired Christopher Wylie, the whistleblower who exposed Facebook's Cambridge Analytica data scandal. WylieÃ¢ÂÂs focus will be to help get better insights on customers, products and markets and support work on sustainable and ethical artificial intelligence, H&M spokesperson said. Wylie is a former employee of Cambridge Analytica.\n",
            "Extractive summary(1):    Swedish multinational fast-fashion brand Hennes & Mauritz AB (H&M) has hired Christopher Wylie, the whistleblower who exposed Facebook's Cambridge Analytica data scandal.\n",
            "Extractive summary(2):    \n",
            "Actual headlines:         Fashion brand H&M hires Facebook data scandal whistleblower\n",
            "Preprocessed text:        swedish multinational fast fashion brand hennes mauritz ab hired christopher wylie whistleblower exposed facebook cambridge analytica data scandal wylie focus help get better insights customers products markets support work sustainable ethical artificial intelligence spokesperson said wylie former employee cambridge analytica\n",
            "Preprocessed haedlines:   fashion brand hires facebook data scandal whistleblower\n",
            "\n",
            "\n",
            "-------------------------------------------------------------------\n",
            "\n",
            "\n",
            "Original text:            Micro-blogging platform Twitter is testing a new feature on Android to put news on the top of a user's timeline. \"With this update, weÃ¢ÂÂre making it easier for people to see news and stories their followers have been discussing,\" Product Manager Walter Gurzynski said. The feature comes alongside a prompt saying, \"Catch up on what's happened while you were away.\"\n",
            "Extractive summary(1):    Micro-blogging platform Twitter is testing a new feature on Android to put news on the top of a user's timeline.\n",
            "Extractive summary(2):    Micro-blogging platform Twitter is testing a new feature on Android to put news on the top of a user's timeline.\n",
            "Actual headlines:         Twitter testing news-first timeline feature on Android\n",
            "Preprocessed text:        micro blogging platform twitter testing new feature android put news top user timeline update making easier people see news stories followers discussing product manager walter gurzynski said feature comes alongside prompt saying catch happened away\n",
            "Preprocessed haedlines:   twitter testing news first timeline feature on android\n",
            "\n",
            "\n",
            "-------------------------------------------------------------------\n",
            "\n",
            "\n",
            "Original text:            The US on Tuesday began returning asylum seekers to Mexico, sending back a migrant from a Central American nation and called the move a \"response to the illegal migration crisis\" faced by it. Under its Migrant Protection Protocols policy, the US will return certain migrants who cross into the country illegally back to Mexico while their asylum requests are processed.\n",
            "Extractive summary(1):    The US on Tuesday began returning asylum seekers to Mexico, sending back a migrant from a Central American nation and called the move a \"response to the illegal migration crisis\" faced by it.\n",
            "Extractive summary(2):    \n",
            "Actual headlines:         US begins sending back asylum seekers to Mexico\n",
            "Preprocessed text:        us tuesday began returning asylum seekers mexico sending back migrant central american nation called move response illegal migration crisis faced migrant protection protocols policy us return certain migrants cross country illegally back mexico asylum requests processed\n",
            "Preprocessed haedlines:   us begins sending back asylum seekers to mexico\n",
            "\n",
            "\n",
            "-------------------------------------------------------------------\n",
            "\n",
            "\n"
          ]
        }
      ]
    },
    {
      "cell_type": "markdown",
      "metadata": {
        "id": "8XjB2jgr4z2g"
      },
      "source": [
        "결론\n",
        "- 분석단계, 정제단계, 정규화와 불용어 제거, 데이터셋 분리, 인코딩 과정 진행됨\n",
        "- 모델학습이 안정적으로 수렴되었음을 그래프를 통해 확인하였으며, 실제 요약문과 유사한 요약문장을 얻음\n",
        "- 추상적, 추출적 요약 결과를 문법완성도 측면과 핵심단어 포함 측면으로 나누어 비교 결과 제시함"
      ]
    }
  ]
}